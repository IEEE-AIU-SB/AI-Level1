{
 "cells": [
  {
   "cell_type": "markdown",
   "metadata": {},
   "source": [
    "## First Program WOW :)"
   ]
  },
  {
   "cell_type": "code",
   "execution_count": 3,
   "metadata": {},
   "outputs": [
    {
     "name": "stdout",
     "output_type": "stream",
     "text": [
      "I love ML\n"
     ]
    }
   ],
   "source": [
    "print(\"I love ML\")"
   ]
  },
  {
   "cell_type": "markdown",
   "metadata": {},
   "source": [
    "## Variables"
   ]
  },
  {
   "cell_type": "code",
   "execution_count": 5,
   "metadata": {},
   "outputs": [
    {
     "name": "stdout",
     "output_type": "stream",
     "text": [
      "Welcome to AI Course Level-1\n"
     ]
    }
   ],
   "source": [
    "print(\"Welcome to AI Course Level-1\")"
   ]
  },
  {
   "cell_type": "code",
   "execution_count": 6,
   "metadata": {},
   "outputs": [
    {
     "name": "stdout",
     "output_type": "stream",
     "text": [
      "Welcome to AI Course Level-1 Mohamed\n"
     ]
    }
   ],
   "source": [
    "# Write a code to say \"Welcome to AI Course Level-1\" to the user with his name\n",
    "name = input(\"Enter your name: \")\n",
    "print(\"Welcome to AI Course Level-1\", name)"
   ]
  },
  {
   "cell_type": "code",
   "execution_count": 10,
   "metadata": {},
   "outputs": [
    {
     "name": "stdout",
     "output_type": "stream",
     "text": [
      "10\n",
      "20\n",
      "20\n"
     ]
    }
   ],
   "source": [
    "x = 10\n",
    "print(x)\n",
    "\n",
    "x = 20\n",
    "print(x)\n",
    "\n",
    "y = x\n",
    "print(y)"
   ]
  },
  {
   "cell_type": "code",
   "execution_count": null,
   "metadata": {},
   "outputs": [
    {
     "name": "stdout",
     "output_type": "stream",
     "text": [
      "25 5.9 Alice True\n"
     ]
    }
   ],
   "source": [
    "# Data Types \n",
    "\n",
    "# Integer\n",
    "age = 25\n",
    "\n",
    "# Float\n",
    "height = 5.9\n",
    "\n",
    "# String\n",
    "name = \"Alice\"\n",
    "\n",
    "# Boolean\n",
    "is_student = True\n",
    "\n",
    "print(age, height, name, is_student)"
   ]
  },
  {
   "cell_type": "code",
   "execution_count": 13,
   "metadata": {},
   "outputs": [
    {
     "name": "stdout",
     "output_type": "stream",
     "text": [
      "1 2 3\n"
     ]
    }
   ],
   "source": [
    "a, b, c = 1, 2, 3\n",
    "print(a, b, c)"
   ]
  },
  {
   "cell_type": "code",
   "execution_count": 3,
   "metadata": {},
   "outputs": [
    {
     "name": "stdout",
     "output_type": "stream",
     "text": [
      "Initial counter value: 0\n",
      "Counter after increment: 1\n",
      "Counter after another increment: 2\n"
     ]
    }
   ],
   "source": [
    "counter = 0\n",
    "print(\"Initial counter value:\", counter)\n",
    "\n",
    "counter = counter + 1\n",
    "print(\"Counter after increment:\", counter)\n",
    "\n",
    "counter += 1\n",
    "print(\"Counter after another increment:\", counter)"
   ]
  },
  {
   "cell_type": "code",
   "execution_count": 16,
   "metadata": {},
   "outputs": [
    {
     "name": "stdout",
     "output_type": "stream",
     "text": [
      "10 5\n"
     ]
    }
   ],
   "source": [
    "# Swapping\n",
    "x = 5\n",
    "y = 10\n",
    "\n",
    "# I want to swap between variables so y = 5 and x = 10\n",
    "temp = y\n",
    "y = x\n",
    "x = temp\n",
    "print(x,y)"
   ]
  },
  {
   "cell_type": "code",
   "execution_count": 17,
   "metadata": {},
   "outputs": [
    {
     "name": "stdout",
     "output_type": "stream",
     "text": [
      "Before swapping: x = 5 y = 10\n",
      "After swapping: x = 10 y = 5\n"
     ]
    }
   ],
   "source": [
    "x = 5\n",
    "y = 10\n",
    "\n",
    "print(\"Before swapping: x =\", x, \"y =\", y)\n",
    "\n",
    "# Swapping\n",
    "x, y = y, x\n",
    "\n",
    "print(\"After swapping: x =\", x, \"y =\", y)"
   ]
  },
  {
   "cell_type": "markdown",
   "metadata": {},
   "source": [
    "## Lists"
   ]
  },
  {
   "cell_type": "code",
   "execution_count": 18,
   "metadata": {},
   "outputs": [
    {
     "name": "stdout",
     "output_type": "stream",
     "text": [
      "[1, 2, 3, 4, 5]\n",
      "['apple', 'banana', 'cherry']\n",
      "[1, 'apple', 3.14, True]\n"
     ]
    }
   ],
   "source": [
    "# List of integers\n",
    "numbers = [1, 2, 3, 4, 5]\n",
    "\n",
    "# List of strings\n",
    "fruits = [\"apple\", \"banana\", \"cherry\"]\n",
    "\n",
    "# Mixed data types\n",
    "mixed_list = [1, \"apple\", 3.14, True]\n",
    "\n",
    "print(numbers)\n",
    "print(fruits)\n",
    "print(mixed_list)"
   ]
  },
  {
   "cell_type": "code",
   "execution_count": 24,
   "metadata": {},
   "outputs": [
    {
     "name": "stdout",
     "output_type": "stream",
     "text": [
      "apple\n",
      "blueberry\n",
      "['banana', 'cherry']\n"
     ]
    }
   ],
   "source": [
    "fruits = [\"apple\", \"banana\", \"cherry\", \"Watermelon\", \"blueberry\"]\n",
    "\n",
    "# Accessing the first element\n",
    "print(fruits[0])\n",
    "\n",
    "# Accessing the last element\n",
    "print(fruits[-1])\n",
    "\n",
    "# Slicing the list\n",
    "print(fruits[1:3])"
   ]
  },
  {
   "cell_type": "code",
   "execution_count": 27,
   "metadata": {},
   "outputs": [
    {
     "name": "stdout",
     "output_type": "stream",
     "text": [
      "['apple', 'blueberry', 'cherry']\n",
      "['apple', 'blueberry', 'cherry', 'orange']\n",
      "['apple', 'mango', 'blueberry', 'cherry', 'orange']\n",
      "['apple', 'mango', 'cherry', 'orange']\n",
      "['apple', 'mango', 'orange']\n"
     ]
    }
   ],
   "source": [
    "fruits = [\"apple\", \"banana\", \"cherry\"]\n",
    "\n",
    "# Changing an element\n",
    "fruits[1] = \"blueberry\"\n",
    "print(fruits)\n",
    "\n",
    "# Adding an element to the end\n",
    "fruits.append(\"orange\")\n",
    "print(fruits)\n",
    "\n",
    "# Inserting an element at a specific position\n",
    "fruits.insert(1, \"mango\")\n",
    "print(fruits)\n",
    "\n",
    "# Removing an element by value\n",
    "fruits.remove(\"blueberry\")\n",
    "print(fruits)\n",
    "\n",
    "# Removing an element by index\n",
    "fruits.pop(2)\n",
    "print(fruits)"
   ]
  },
  {
   "cell_type": "code",
   "execution_count": 30,
   "metadata": {},
   "outputs": [
    {
     "name": "stdout",
     "output_type": "stream",
     "text": [
      "[1, 2, 3, 4, 5, 6]\n",
      "[1, 2, 3, 1, 2, 3, 1, 2, 3]\n",
      "6\n"
     ]
    }
   ],
   "source": [
    "list1 = [1, 2, 3]\n",
    "list2 = [4, 5, 6]\n",
    "\n",
    "# Concatenation\n",
    "combined_list = list1 + list2\n",
    "print(combined_list)\n",
    "\n",
    "# Repetition\n",
    "repeated_list = list1 * 3\n",
    "print(repeated_list)\n",
    "\n",
    "# Length of the list\n",
    "print(len(combined_list))"
   ]
  },
  {
   "cell_type": "code",
   "execution_count": 31,
   "metadata": {},
   "outputs": [
    {
     "name": "stdout",
     "output_type": "stream",
     "text": [
      "Sorted list: [1, 1, 2, 3, 4, 5, 5, 6, 9]\n",
      "Reversed list: [9, 6, 5, 5, 4, 3, 2, 1, 1]\n"
     ]
    }
   ],
   "source": [
    "numbers = [3, 1, 4, 1, 5, 9, 2, 6, 5]\n",
    "\n",
    "# Sorting the list\n",
    "numbers.sort()\n",
    "print(\"Sorted list:\", numbers)\n",
    "\n",
    "# Reversing the list\n",
    "numbers.reverse()\n",
    "print(\"Reversed list:\", numbers)"
   ]
  },
  {
   "cell_type": "code",
   "execution_count": 32,
   "metadata": {},
   "outputs": [
    {
     "name": "stdout",
     "output_type": "stream",
     "text": [
      "Copied list: [1, 2, 3]\n",
      "Original list: [1, 2, 3]\n",
      "Copied list after modification: [1, 2, 3, 4]\n"
     ]
    }
   ],
   "source": [
    "original_list = [1, 2, 3]\n",
    "\n",
    "# Shallow copy\n",
    "copied_list = original_list.copy()\n",
    "print(\"Copied list:\", copied_list)\n",
    "\n",
    "# Modifying the copied list\n",
    "copied_list.append(4)\n",
    "print(\"Original list:\", original_list)\n",
    "print(\"Copied list after modification:\", copied_list)"
   ]
  },
  {
   "cell_type": "code",
   "execution_count": 142,
   "metadata": {},
   "outputs": [
    {
     "name": "stdout",
     "output_type": "stream",
     "text": [
      "[0, 1, 4, 9, 16, 25, 36, 49, 64, 81]\n",
      "[0, 2, 4, 6, 8]\n"
     ]
    }
   ],
   "source": [
    "# List Comprehensions\n",
    "\n",
    "# Squares of numbers from 0 to 9\n",
    "squares = [x**2 for x in range(10)]\n",
    "print(squares)\n",
    "\n",
    "# Even numbers from 0 to 9\n",
    "evens = [x for x in range(10) if x % 2 == 0]\n",
    "print(evens)"
   ]
  },
  {
   "cell_type": "code",
   "execution_count": 33,
   "metadata": {},
   "outputs": [
    {
     "name": "stdout",
     "output_type": "stream",
     "text": [
      "Element at row 2, column 3: 6\n"
     ]
    }
   ],
   "source": [
    "# List of lists\n",
    "matrix = [\n",
    "    [1, 2, 3],\n",
    "    [4, 5, 6],\n",
    "    [7, 8, 9]\n",
    "]\n",
    "\n",
    "# Accessing elements in a nested list\n",
    "print(\"Element at row 2, column 3:\", matrix[1][2])"
   ]
  },
  {
   "cell_type": "code",
   "execution_count": 34,
   "metadata": {},
   "outputs": [
    {
     "name": "stdout",
     "output_type": "stream",
     "text": [
      "NumPy array: [1 2 3 4 5]\n",
      "Mean of the array: 3.0\n"
     ]
    }
   ],
   "source": [
    "import numpy as np   # Numerical Python \n",
    "\n",
    "# Converting a list to a NumPy array\n",
    "data = [1, 2, 3, 4, 5]\n",
    "array = np.array(data)\n",
    "\n",
    "print(\"NumPy array:\", array)\n",
    "print(\"Mean of the array:\", np.mean(array))"
   ]
  },
  {
   "cell_type": "markdown",
   "metadata": {},
   "source": [
    "## Sets"
   ]
  },
  {
   "cell_type": "code",
   "execution_count": 50,
   "metadata": {},
   "outputs": [
    {
     "name": "stdout",
     "output_type": "stream",
     "text": [
      "Set with unique elements: {1, 2, 3, 4, 5}\n",
      "Set from a list: {'cherry', 'apple', 'banana'}\n",
      "List from a set: ['cherry', 'apple', 'banana']\n"
     ]
    }
   ],
   "source": [
    "# Creating a set\n",
    "unique_numbers = {1, 2, 3, 4, 5, 5, 4}\n",
    "print(\"Set with unique elements:\", unique_numbers)\n",
    "\n",
    "# Creating a set from a list\n",
    "fruits = [\"apple\", \"banana\", \"cherry\", \"banana\"]\n",
    "unique_fruits = set(fruits)\n",
    "list_fruits = list(unique_fruits)\n",
    "print(\"Set from a list:\", unique_fruits)\n",
    "print(\"List from a set:\", list_fruits)"
   ]
  },
  {
   "cell_type": "code",
   "execution_count": 41,
   "metadata": {},
   "outputs": [
    {
     "name": "stdout",
     "output_type": "stream",
     "text": [
      "After adding 4: {1, 2, 3, 4}\n",
      "After updating with multiple elements: {1, 2, 3, 4, 5, 6, 7}\n",
      "After removing 3: {1, 2, 4, 5, 6, 7}\n",
      "After discarding 10: {1, 2, 4, 5, 6, 7}\n"
     ]
    }
   ],
   "source": [
    "# Adding elements\n",
    "unique_numbers = {1, 2, 3}\n",
    "unique_numbers.add(4)\n",
    "print(\"After adding 4:\", unique_numbers)\n",
    "\n",
    "# Adding multiple elements\n",
    "unique_numbers.update([5, 6, 7])\n",
    "print(\"After updating with multiple elements:\", unique_numbers)\n",
    "\n",
    "# Removing an element\n",
    "unique_numbers.remove(3)  # Raises an error if the element doesn't exist\n",
    "print(\"After removing 3:\", unique_numbers)\n",
    "\n",
    "# Discarding an element (no error if the element doesn't exist)\n",
    "unique_numbers.discard(10)\n",
    "print(\"After discarding 10:\", unique_numbers)"
   ]
  },
  {
   "cell_type": "code",
   "execution_count": 42,
   "metadata": {},
   "outputs": [
    {
     "name": "stdout",
     "output_type": "stream",
     "text": [
      "Union of set1 and set2: {1, 2, 3, 4, 5, 6}\n",
      "Intersection of set1 and set2: {3, 4}\n",
      "Difference of set1 and set2: {1, 2}\n",
      "Symmetric difference of set1 and set2: {1, 2, 5, 6}\n"
     ]
    }
   ],
   "source": [
    "set1 = {1, 2, 3, 4}\n",
    "set2 = {3, 4, 5, 6}\n",
    "\n",
    "# Union (all elements from both sets)\n",
    "union_set = set1.union(set2)\n",
    "print(\"Union of set1 and set2:\", union_set)\n",
    "\n",
    "# Intersection (common elements)\n",
    "intersection_set = set1.intersection(set2)\n",
    "print(\"Intersection of set1 and set2:\", intersection_set)\n",
    "\n",
    "# Difference (elements in set1 but not in set2)\n",
    "difference_set = set1.difference(set2)\n",
    "print(\"Difference of set1 and set2:\", difference_set)\n",
    "\n",
    "# Symmetric Difference (elements in either set but not in both)\n",
    "symmetric_difference_set = set1.symmetric_difference(set2)\n",
    "print(\"Symmetric difference of set1 and set2:\", symmetric_difference_set)"
   ]
  },
  {
   "cell_type": "code",
   "execution_count": 45,
   "metadata": {},
   "outputs": [
    {
     "name": "stdout",
     "output_type": "stream",
     "text": [
      "Is set1 a subset of set2? True\n",
      "Is set2 a superset of set1? True\n"
     ]
    }
   ],
   "source": [
    "set1 = {1, 2, 3}\n",
    "set2 = {1, 2, 3, 4, 5}\n",
    "\n",
    "# Check if set1 is a subset of set2\n",
    "print(\"Is set1 a subset of set2?\", set1.issubset(set2))\n",
    "\n",
    "# Check if set2 is a superset of set1\n",
    "print(\"Is set2 a superset of set1?\", set2.issuperset(set1))"
   ]
  },
  {
   "cell_type": "code",
   "execution_count": 46,
   "metadata": {},
   "outputs": [
    {
     "name": "stdout",
     "output_type": "stream",
     "text": [
      "Set after clearing: set()\n"
     ]
    }
   ],
   "source": [
    "unique_numbers = {1, 2, 3, 4, 5}\n",
    "unique_numbers.clear()\n",
    "print(\"Set after clearing:\", unique_numbers)"
   ]
  },
  {
   "cell_type": "code",
   "execution_count": 51,
   "metadata": {},
   "outputs": [
    {
     "name": "stdout",
     "output_type": "stream",
     "text": [
      "Frozen set: frozenset({1, 2, 3, 4})\n"
     ]
    }
   ],
   "source": [
    "frozen_set = frozenset([1, 2, 3, 4])\n",
    "print(\"Frozen set:\", frozen_set)\n",
    "\n",
    "# Trying to add an element (will raise an error)\n",
    "# frozen_set.add(5)  # This will raise an AttributeError"
   ]
  },
  {
   "cell_type": "markdown",
   "metadata": {},
   "source": [
    "## Tuples"
   ]
  },
  {
   "cell_type": "code",
   "execution_count": 54,
   "metadata": {},
   "outputs": [
    {
     "name": "stdout",
     "output_type": "stream",
     "text": [
      "Coordinates: (10, 20)\n",
      "Fruits: ('apple', 'banana', 'cherry')\n",
      "Single-element tuple: (42,)\n"
     ]
    }
   ],
   "source": [
    "# Creating a tuple\n",
    "coordinates = (10, 20)\n",
    "print(\"Coordinates:\", coordinates)\n",
    "\n",
    "# Creating a tuple without parentheses\n",
    "fruits = \"apple\", \"banana\", \"cherry\"\n",
    "print(\"Fruits:\", fruits)\n",
    "\n",
    "# Single-element tuple (note the trailing comma)\n",
    "single_element = (42,)\n",
    "print(\"Single-element tuple:\", single_element)"
   ]
  },
  {
   "cell_type": "code",
   "execution_count": 62,
   "metadata": {},
   "outputs": [
    {
     "name": "stdout",
     "output_type": "stream",
     "text": [
      "First fruit: apple\n",
      "Last fruit: cherry\n",
      "First two fruits: ('apple', 'banana')\n"
     ]
    }
   ],
   "source": [
    "fruits = (\"apple\", \"banana\", \"cherry\")\n",
    "\n",
    "# Accessing the first element\n",
    "print(\"First fruit:\", fruits[0])\n",
    "\n",
    "# Accessing the last element\n",
    "print(\"Last fruit:\", fruits[-1])\n",
    "\n",
    "# Slicing the tuple\n",
    "print(\"First two fruits:\", fruits[:2])"
   ]
  },
  {
   "cell_type": "code",
   "execution_count": 64,
   "metadata": {},
   "outputs": [],
   "source": [
    "fruits = (\"apple\", \"banana\", \"cherry\")\n",
    "\n",
    "# Trying to change an element (will raise an error)\n",
    "# fruits[1] = \"blueberry\"  # This will raise a TypeError"
   ]
  },
  {
   "cell_type": "code",
   "execution_count": 66,
   "metadata": {},
   "outputs": [
    {
     "name": "stdout",
     "output_type": "stream",
     "text": [
      "Packed tuple: ('Alice', 25, 'Engineer')\n",
      "Unpacked values: Alice 25 Engineer\n"
     ]
    }
   ],
   "source": [
    "# Packing\n",
    "person = (\"Alice\", 25, \"Engineer\")\n",
    "print(\"Packed tuple:\", person)\n",
    "\n",
    "# Unpacking\n",
    "name, age, profession = person\n",
    "print(\"Unpacked values:\", name, age, profession)"
   ]
  },
  {
   "cell_type": "code",
   "execution_count": 67,
   "metadata": {},
   "outputs": [
    {
     "name": "stdout",
     "output_type": "stream",
     "text": [
      "Combined tuple: (1, 2, 3, 4, 5, 6)\n"
     ]
    }
   ],
   "source": [
    "tuple1 = (1, 2, 3)\n",
    "tuple2 = (4, 5, 6)\n",
    "\n",
    "combined_tuple = tuple1 + tuple2\n",
    "print(\"Combined tuple:\", combined_tuple)"
   ]
  },
  {
   "cell_type": "code",
   "execution_count": 68,
   "metadata": {},
   "outputs": [
    {
     "name": "stdout",
     "output_type": "stream",
     "text": [
      "Repeated tuple: (1, 2, 1, 2, 1, 2)\n"
     ]
    }
   ],
   "source": [
    "repeated_tuple = (1, 2) * 3\n",
    "print(\"Repeated tuple:\", repeated_tuple)"
   ]
  },
  {
   "cell_type": "code",
   "execution_count": 72,
   "metadata": {},
   "outputs": [
    {
     "name": "stdout",
     "output_type": "stream",
     "text": [
      "Is 'banana' in the tuple? True\n",
      "Is 'mango' in the tuple? False\n"
     ]
    }
   ],
   "source": [
    "fruits = (\"apple\", \"banana\", \"cherry\")\n",
    "\n",
    "print(\"Is 'banana' in the tuple?\", \"banana\" in fruits)\n",
    "print(\"Is 'mango' in the tuple?\", \"mango\" in fruits)"
   ]
  },
  {
   "cell_type": "code",
   "execution_count": 78,
   "metadata": {},
   "outputs": [
    {
     "name": "stdout",
     "output_type": "stream",
     "text": [
      "Number of fruits: 3\n"
     ]
    }
   ],
   "source": [
    "fruits = (\"apple\", \"banana\", \"cherry\")\n",
    "print(\"Number of fruits:\", len(fruits))"
   ]
  },
  {
   "cell_type": "code",
   "execution_count": 79,
   "metadata": {},
   "outputs": [
    {
     "name": "stdout",
     "output_type": "stream",
     "text": [
      "Nested tuple: ((1, 2), (3, 4), (5, 6))\n",
      "Element at row 2, column 1: 3\n"
     ]
    }
   ],
   "source": [
    "nested_tuple = ((1, 2), (3, 4), (5, 6))\n",
    "print(\"Nested tuple:\", nested_tuple)\n",
    "\n",
    "# Accessing elements in a nested tuple\n",
    "print(\"Element at row 2, column 1:\", nested_tuple[1][0])"
   ]
  },
  {
   "cell_type": "code",
   "execution_count": 80,
   "metadata": {},
   "outputs": [
    {
     "name": "stdout",
     "output_type": "stream",
     "text": [
      "Converted to list: ['apple', 'banana', 'cherry']\n",
      "Converted to tuple: (1, 2, 3, 4)\n"
     ]
    }
   ],
   "source": [
    "# Tuple to list\n",
    "fruits_tuple = (\"apple\", \"banana\", \"cherry\")\n",
    "fruits_list = list(fruits_tuple)\n",
    "print(\"Converted to list:\", fruits_list)\n",
    "\n",
    "# List to tuple\n",
    "numbers_list = [1, 2, 3, 4]\n",
    "numbers_tuple = tuple(numbers_list)\n",
    "print(\"Converted to tuple:\", numbers_tuple)"
   ]
  },
  {
   "cell_type": "code",
   "execution_count": 81,
   "metadata": {},
   "outputs": [
    {
     "name": "stdout",
     "output_type": "stream",
     "text": [
      "Number of 2s: 3\n",
      "Index of 3: 2\n"
     ]
    }
   ],
   "source": [
    "numbers = (1, 2, 3, 2, 4, 2)\n",
    "\n",
    "# Count occurrences of an element\n",
    "print(\"Number of 2s:\", numbers.count(2))\n",
    "\n",
    "# Find the index of an element\n",
    "print(\"Index of 3:\", numbers.index(3))"
   ]
  },
  {
   "cell_type": "code",
   "execution_count": 82,
   "metadata": {},
   "outputs": [
    {
     "name": "stdout",
     "output_type": "stream",
     "text": [
      "Location of (35.6895, 139.6917): Tokyo\n"
     ]
    }
   ],
   "source": [
    "# Dictionary with tuple keys\n",
    "location_map = {\n",
    "    (35.6895, 139.6917): \"Tokyo\",\n",
    "    (40.7128, -74.0060): \"New York\"\n",
    "}\n",
    "\n",
    "print(\"Location of (35.6895, 139.6917):\", location_map[(35.6895, 139.6917)])"
   ]
  },
  {
   "cell_type": "markdown",
   "metadata": {},
   "source": [
    "## Dictionaries"
   ]
  },
  {
   "cell_type": "code",
   "execution_count": 83,
   "metadata": {},
   "outputs": [
    {
     "name": "stdout",
     "output_type": "stream",
     "text": [
      "Person dictionary: {'name': 'Alice', 'age': 25, 'profession': 'Engineer'}\n",
      "Person2 dictionary: {'name': 'Bob', 'age': 30, 'profession': 'Data Scientist'}\n"
     ]
    }
   ],
   "source": [
    "# Creating a dictionary\n",
    "person = {\"name\": \"Alice\", \"age\": 25, \"profession\": \"Engineer\"}\n",
    "print(\"Person dictionary:\", person)\n",
    "\n",
    "# Using dict() constructor\n",
    "person2 = dict(name=\"Bob\", age=30, profession=\"Data Scientist\")\n",
    "print(\"Person2 dictionary:\", person2)"
   ]
  },
  {
   "cell_type": "code",
   "execution_count": 89,
   "metadata": {},
   "outputs": [
    {
     "name": "stdout",
     "output_type": "stream",
     "text": [
      "Name: Alice\n",
      "Age: 25\n",
      "Salary: Not specified\n"
     ]
    }
   ],
   "source": [
    "person = {\"name\": \"Alice\", \"age\": 25, \"profession\": \"Engineer\"}\n",
    "\n",
    "# Accessing a value\n",
    "print(\"Name:\", person[\"name\"])\n",
    "\n",
    "# Using get() to avoid KeyError if the key doesn't exist\n",
    "print(\"Age:\", person.get(\"age\"))\n",
    "print(\"Salary:\", person.get(\"salary\", \"Not specified\"))  # Default value if key doesn't exist"
   ]
  },
  {
   "cell_type": "code",
   "execution_count": 93,
   "metadata": {},
   "outputs": [
    {
     "name": "stdout",
     "output_type": "stream",
     "text": [
      "After adding profession: {'name': 'Alice', 'age': 25, 'profession': 'Engineer'}\n",
      "After updating age: {'name': 'Alice', 'age': 26, 'profession': 'Engineer'}\n"
     ]
    }
   ],
   "source": [
    "person = {\"name\": \"Alice\", \"age\": 25}\n",
    "\n",
    "# Adding a new key-value pair\n",
    "person[\"profession\"] = \"Engineer\"\n",
    "print(\"After adding profession:\", person)\n",
    "\n",
    "# Updating an existing key\n",
    "person[\"age\"] = 26\n",
    "print(\"After updating age:\", person)"
   ]
  },
  {
   "cell_type": "code",
   "execution_count": 95,
   "metadata": {},
   "outputs": [
    {
     "name": "stdout",
     "output_type": "stream",
     "text": [
      "After deleting age: {'name': 'Alice', 'profession': 'Engineer'}\n",
      "Popped profession: Engineer\n",
      "After popping profession: {'name': 'Alice'}\n",
      "Popped last item: ('name', 'Alice')\n",
      "After popping last item: {}\n"
     ]
    }
   ],
   "source": [
    "person = {\"name\": \"Alice\", \"age\": 25, \"profession\": \"Engineer\"}\n",
    "\n",
    "# Removing a key-value pair\n",
    "del person[\"age\"]\n",
    "print(\"After deleting age:\", person)\n",
    "\n",
    "# Using pop() to remove and return a value\n",
    "profession = person.pop(\"profession\")\n",
    "print(\"Popped profession:\", profession)\n",
    "print(\"After popping profession:\", person)\n",
    "\n",
    "# Using popitem() to remove and return the last inserted key-value pair\n",
    "last_item = person.popitem()\n",
    "print(\"Popped last item:\", last_item)\n",
    "print(\"After popping last item:\", person)"
   ]
  },
  {
   "cell_type": "code",
   "execution_count": 96,
   "metadata": {},
   "outputs": [
    {
     "name": "stdout",
     "output_type": "stream",
     "text": [
      "Is 'name' in the dictionary? True\n",
      "Is 'salary' in the dictionary? False\n"
     ]
    }
   ],
   "source": [
    "person = {\"name\": \"Alice\", \"age\": 25}\n",
    "\n",
    "print(\"Is 'name' in the dictionary?\", \"name\" in person)\n",
    "print(\"Is 'salary' in the dictionary?\", \"salary\" in person)"
   ]
  },
  {
   "cell_type": "code",
   "execution_count": 99,
   "metadata": {},
   "outputs": [
    {
     "name": "stdout",
     "output_type": "stream",
     "text": [
      "Merged dictionary (update): {'a': 1, 'b': 3, 'c': 4}\n",
      "Merged dictionary (| operator): {'a': 1, 'b': 3, 'c': 4}\n"
     ]
    }
   ],
   "source": [
    "dict1 = {\"a\": 1, \"b\": 2}\n",
    "dict2 = {\"b\": 3, \"c\": 4}\n",
    "\n",
    "# Using update()\n",
    "dict1.update(dict2)\n",
    "print(\"Merged dictionary (update):\", dict1)\n",
    "\n",
    "# Using | operator (Python 3.9+)\n",
    "dict3 = {\"a\": 1, \"b\": 2}\n",
    "merged_dict = dict3 | dict2\n",
    "print(\"Merged dictionary (| operator):\", merged_dict)"
   ]
  },
  {
   "cell_type": "code",
   "execution_count": 145,
   "metadata": {},
   "outputs": [
    {
     "name": "stdout",
     "output_type": "stream",
     "text": [
      "Squares dictionary: {0: 0, 1: 1, 2: 4, 3: 9, 4: 16}\n",
      "Even squares dictionary: {0: 0, 2: 4, 4: 16, 6: 36, 8: 64}\n"
     ]
    }
   ],
   "source": [
    "# Squares of numbers from 0 to 4\n",
    "squares = {x: x**2 for x in range(5)}\n",
    "print(\"Squares dictionary:\", squares)\n",
    "\n",
    "# Filtering even numbers\n",
    "evens = {x: x**2 for x in range(10) if x % 2 == 0}\n",
    "print(\"Even squares dictionary:\", evens)"
   ]
  },
  {
   "cell_type": "code",
   "execution_count": 100,
   "metadata": {},
   "outputs": [
    {
     "name": "stdout",
     "output_type": "stream",
     "text": [
      "Employees dictionary: {'Alice': {'age': 25, 'profession': 'Engineer'}, 'Bob': {'age': 30, 'profession': 'Data Scientist'}}\n",
      "Alice's profession: Engineer\n"
     ]
    }
   ],
   "source": [
    "# Nested dictionary\n",
    "employees = {\n",
    "    \"Alice\": {\"age\": 25, \"profession\": \"Engineer\"},\n",
    "    \"Bob\": {\"age\": 30, \"profession\": \"Data Scientist\"}\n",
    "}\n",
    "\n",
    "print(\"Employees dictionary:\", employees)\n",
    "\n",
    "# Accessing nested values\n",
    "print(\"Alice's profession:\", employees[\"Alice\"][\"profession\"])"
   ]
  },
  {
   "cell_type": "markdown",
   "metadata": {},
   "source": [
    "## If-Condition"
   ]
  },
  {
   "cell_type": "code",
   "execution_count": 106,
   "metadata": {},
   "outputs": [
    {
     "name": "stdout",
     "output_type": "stream",
     "text": [
      "x is greater than 5\n"
     ]
    }
   ],
   "source": [
    "x = 10\n",
    "\n",
    "if x > 5:\n",
    "    print(\"x is greater than 5\")\n",
    "else:\n",
    "    print(\"x is smaller than 5\")"
   ]
  },
  {
   "cell_type": "code",
   "execution_count": 110,
   "metadata": {},
   "outputs": [
    {
     "name": "stdout",
     "output_type": "stream",
     "text": [
      "x is equal to 7\n"
     ]
    }
   ],
   "source": [
    "x = 7\n",
    "\n",
    "if x > 10:\n",
    "    print(\"x is greater than 10\")\n",
    "elif x == 7:\n",
    "    print(\"x is equal to 7\")\n",
    "else:\n",
    "    print(\"x is less than 10 and not equal to 7\")"
   ]
  },
  {
   "cell_type": "code",
   "execution_count": 111,
   "metadata": {},
   "outputs": [
    {
     "name": "stdout",
     "output_type": "stream",
     "text": [
      "Hello, Alice!\n"
     ]
    }
   ],
   "source": [
    "name = \"Alice\"\n",
    "\n",
    "if name == \"Alice\":\n",
    "    print(\"Hello, Alice!\")\n",
    "else:\n",
    "    print(\"You're not Alice!\")"
   ]
  },
  {
   "cell_type": "code",
   "execution_count": 112,
   "metadata": {},
   "outputs": [
    {
     "name": "stdout",
     "output_type": "stream",
     "text": [
      "Yes, banana is in the fruits list\n"
     ]
    }
   ],
   "source": [
    "fruits = [\"apple\", \"banana\", \"cherry\"]\n",
    "\n",
    "if \"banana\" in fruits:\n",
    "    print(\"Yes, banana is in the fruits list\")\n",
    "else:\n",
    "    print(\"No, banana is not in the fruits list\")"
   ]
  },
  {
   "cell_type": "code",
   "execution_count": null,
   "metadata": {},
   "outputs": [
    {
     "name": "stdout",
     "output_type": "stream",
     "text": [
      "Logged in!\n"
     ]
    }
   ],
   "source": [
    "name = \"Alice\"\n",
    "if name == \"Alice\" or name == \"Bob\":\n",
    "    print(\"Logged in!\")\n",
    "else:\n",
    "    print(\"Can't log in!\")"
   ]
  },
  {
   "cell_type": "code",
   "execution_count": 118,
   "metadata": {},
   "outputs": [
    {
     "name": "stdout",
     "output_type": "stream",
     "text": [
      "You can't work!\n"
     ]
    }
   ],
   "source": [
    "age = 7\n",
    "if age > 18 and age < 60:\n",
    "    print(\"You can work!\")\n",
    "else:\n",
    "    print(\"You can't work!\")"
   ]
  },
  {
   "cell_type": "code",
   "execution_count": null,
   "metadata": {},
   "outputs": [
    {
     "name": "stdout",
     "output_type": "stream",
     "text": [
      "You are eligible to vote\n"
     ]
    }
   ],
   "source": [
    "age = 20\n",
    "\n",
    "if not age >= 18:\n",
    "    print(\"You are not eligible to vote\")\n",
    "else:\n",
    "    print(\"You are eligible to vote\")"
   ]
  },
  {
   "cell_type": "markdown",
   "metadata": {},
   "source": [
    "## Loops -> for & while"
   ]
  },
  {
   "cell_type": "code",
   "execution_count": 128,
   "metadata": {},
   "outputs": [
    {
     "name": "stdout",
     "output_type": "stream",
     "text": [
      "apple\n",
      "banana\n",
      "cherry\n",
      "P\n",
      "y\n",
      "t\n",
      "h\n",
      "o\n",
      "n\n",
      "0\n",
      "1\n",
      "2\n",
      "3\n",
      "4\n",
      "2\n",
      "3\n",
      "4\n",
      "5\n",
      "1\n",
      "3\n",
      "5\n",
      "7\n",
      "9\n"
     ]
    }
   ],
   "source": [
    "# Example 1: Iterating over a list\n",
    "fruits = [\"apple\", \"banana\", \"cherry\"]\n",
    "for fruit in fruits:\n",
    "    print(fruit)  # Prints each fruit in the list\n",
    "\n",
    "# Example 2: Iterating over a string\n",
    "for letter in \"Python\":\n",
    "    print(letter)  # Prints each letter in the string \"Python\"\n",
    "\n",
    "# Example 3: Using range() to iterate a specific number of times\n",
    "for i in range(5):\n",
    "    print(i)  # Prints numbers from 0 to 4\n",
    "\n",
    "# Example 4: Using range() with start and end values\n",
    "for i in range(2, 6):\n",
    "    print(i)  # Prints numbers from 2 to 5\n",
    "\n",
    "# Example 5: Using range() with a step value\n",
    "for i in range(1, 10, 2):\n",
    "    print(i)  # Prints odd numbers from 1 to 9 (step of 2)"
   ]
  },
  {
   "cell_type": "code",
   "execution_count": 129,
   "metadata": {},
   "outputs": [
    {
     "name": "stdout",
     "output_type": "stream",
     "text": [
      "0\n",
      "1\n",
      "2\n",
      "3\n",
      "4\n",
      "You entered: jnk\n",
      "You entered: njnkl\n",
      "You entered: jkjnnasd\n",
      "You entered: jnkndasd\n",
      "You entered: dasjkndkjan\n",
      "1\n",
      "2\n",
      "4\n",
      "5\n"
     ]
    }
   ],
   "source": [
    "# Example 1: Basic while loop\n",
    "count = 0\n",
    "while count < 5:\n",
    "    print(count)  # Prints numbers from 0 to 4\n",
    "    count += 1  # Increment count by 1\n",
    "\n",
    "# Example 2: Using a break statement to exit the loop\n",
    "while True:\n",
    "    user_input = input(\"Enter 'quit' to exit: \")\n",
    "    if user_input == \"quit\":\n",
    "        break  # Exit the loop if user enters 'quit'\n",
    "    print(f\"You entered: {user_input}\")\n",
    "\n",
    "# Example 3: Using a continue statement to skip an iteration\n",
    "num = 0\n",
    "while num < 5:\n",
    "    num += 1\n",
    "    if num == 3:\n",
    "        continue  # Skip the rest of the loop when num is 3\n",
    "    print(num)  # Prints 1, 2, 4, 5 (skips 3)"
   ]
  },
  {
   "cell_type": "code",
   "execution_count": 130,
   "metadata": {},
   "outputs": [
    {
     "name": "stdout",
     "output_type": "stream",
     "text": [
      "i = 0, j = 0\n",
      "i = 0, j = 1\n",
      "i = 1, j = 0\n",
      "i = 1, j = 1\n",
      "i = 2, j = 0\n",
      "i = 2, j = 1\n",
      "Outer loop: 0\n",
      "  Inner loop: 0\n",
      "  Inner loop: 1\n",
      "Outer loop: 1\n",
      "  Inner loop: 0\n",
      "  Inner loop: 1\n",
      "Outer loop: 2\n",
      "  Inner loop: 0\n",
      "  Inner loop: 1\n"
     ]
    }
   ],
   "source": [
    "# Example 1: Nested for loops\n",
    "for i in range(3):  # Outer loop\n",
    "    for j in range(2):  # Inner loop\n",
    "        print(f\"i = {i}, j = {j}\")  # Prints all combinations of i and j\n",
    "\n",
    "# Example 2: Nested while loop inside a for loop\n",
    "for i in range(3):\n",
    "    print(f\"Outer loop: {i}\")\n",
    "    j = 0\n",
    "    while j < 2:\n",
    "        print(f\"  Inner loop: {j}\")\n",
    "        j += 1"
   ]
  },
  {
   "cell_type": "code",
   "execution_count": 131,
   "metadata": {},
   "outputs": [
    {
     "name": "stdout",
     "output_type": "stream",
     "text": [
      "0\n",
      "1\n",
      "2\n",
      "3\n",
      "4\n",
      "0\n",
      "1\n",
      "3\n",
      "4\n"
     ]
    }
   ],
   "source": [
    "# Example 1: Using break to exit a loop\n",
    "for i in range(10):\n",
    "    if i == 5:\n",
    "        break  # Exit the loop when i is 5\n",
    "    print(i)  # Prints numbers from 0 to 4\n",
    "\n",
    "# Example 2: Using continue to skip an iteration\n",
    "for i in range(5):\n",
    "    if i == 2:\n",
    "        continue  # Skip the iteration when i is 2\n",
    "    print(i)  # Prints 0, 1, 3, 4\n",
    "\n",
    "# Example 3: Using pass as a placeholder\n",
    "for i in range(3):\n",
    "    pass  # Do nothing (used as a placeholder)"
   ]
  },
  {
   "cell_type": "code",
   "execution_count": 132,
   "metadata": {},
   "outputs": [
    {
     "name": "stdout",
     "output_type": "stream",
     "text": [
      "0\n",
      "1\n",
      "2\n",
      "Loop finished!\n",
      "0\n",
      "1\n",
      "2\n",
      "Loop finished!\n",
      "0\n"
     ]
    }
   ],
   "source": [
    "# Example 1: else with a for loop\n",
    "for i in range(3):\n",
    "    print(i)\n",
    "else:\n",
    "    print(\"Loop finished!\")  # Executed after the loop completes\n",
    "\n",
    "# Example 2: else with a while loop\n",
    "count = 0\n",
    "while count < 3:\n",
    "    print(count)\n",
    "    count += 1\n",
    "else:\n",
    "    print(\"Loop finished!\")  # Executed after the loop completes\n",
    "\n",
    "# Example 3: else not executed due to break\n",
    "for i in range(3):\n",
    "    if i == 1:\n",
    "        break  # Exit the loop\n",
    "    print(i)\n",
    "else:\n",
    "    print(\"Loop finished!\")  # Not executed because of the break"
   ]
  },
  {
   "cell_type": "code",
   "execution_count": 141,
   "metadata": {},
   "outputs": [
    {
     "name": "stdout",
     "output_type": "stream",
     "text": [
      "[0, 1, 2, 3, 4]\n",
      "[0, 2, 4, 6, 8]\n",
      "[1, 2, 3, 4, 5, 6, 7, 8, 9]\n"
     ]
    }
   ],
   "source": [
    "# Example 1: Create a list of squares\n",
    "squares = [x for x in range(5)]\n",
    "print(squares)  # Output: [0, 1, 4, 9, 16]\n",
    "\n",
    "# Example 2: Create a list of even numbers\n",
    "evens = [x for x in range(10) if x % 2 == 0]\n",
    "print(evens)  # Output: [0, 2, 4, 6, 8]\n",
    "\n",
    "# Example 3: Nested list comprehension\n",
    "matrix = [[1, 2, 3], [4, 5, 6], [7, 8, 9]]\n",
    "flattened = [num for row in matrix for num in row]\n",
    "print(flattened)  # Output: [1, 2, 3, 4, 5, 6, 7, 8, 9]"
   ]
  },
  {
   "cell_type": "code",
   "execution_count": 146,
   "metadata": {},
   "outputs": [
    {
     "name": "stdout",
     "output_type": "stream",
     "text": [
      "Alice scored 85\n",
      "Bob scored 90\n",
      "Charlie scored 95\n"
     ]
    }
   ],
   "source": [
    "# Example: Iterating over two lists at the same time\n",
    "names = [\"Alice\", \"Bob\", \"Charlie\"]\n",
    "scores = [85, 90, 95]\n",
    "for name, score in zip(names, scores):\n",
    "    print(f\"{name} scored {score}\")\n",
    "# Output:\n",
    "# Alice scored 85\n",
    "# Bob scored 90\n",
    "# Charlie scored 95"
   ]
  },
  {
   "cell_type": "code",
   "execution_count": null,
   "metadata": {},
   "outputs": [
    {
     "name": "stdout",
     "output_type": "stream",
     "text": [
      "0   Alice\n",
      "1   Bob\n",
      "2   Charlie\n"
     ]
    }
   ],
   "source": [
    "for index, name in enumerate(names):    # Try start = 1\n",
    "    print(index, \" \" ,name)\n"
   ]
  },
  {
   "cell_type": "code",
   "execution_count": 151,
   "metadata": {},
   "outputs": [
    {
     "name": "stdout",
     "output_type": "stream",
     "text": [
      "name\n",
      "age\n",
      "city\n",
      "Alice\n",
      "25\n",
      "New York\n",
      "name: Alice\n",
      "age: 25\n",
      "city: New York\n"
     ]
    }
   ],
   "source": [
    "# Example 1: Looping through keys\n",
    "person = {\"name\": \"Alice\", \"age\": 25, \"city\": \"New York\"}\n",
    "for key in person:\n",
    "    print(key)  # Prints keys: name, age, city\n",
    "\n",
    "# Example 2: Looping through values\n",
    "for value in person.values():\n",
    "    print(value)  # Prints values: Alice, 25, New York\n",
    "\n",
    "# Example 3: Looping through key-value pairs\n",
    "for key, value in person.items():\n",
    "    print(f\"{key}: {value}\")\n",
    "# Output:\n",
    "# name: Alice\n",
    "# age: 25\n",
    "# city: New York"
   ]
  }
 ],
 "metadata": {
  "kernelspec": {
   "display_name": "base",
   "language": "python",
   "name": "python3"
  },
  "language_info": {
   "codemirror_mode": {
    "name": "ipython",
    "version": 3
   },
   "file_extension": ".py",
   "mimetype": "text/x-python",
   "name": "python",
   "nbconvert_exporter": "python",
   "pygments_lexer": "ipython3",
   "version": "3.12.4"
  }
 },
 "nbformat": 4,
 "nbformat_minor": 2
}
