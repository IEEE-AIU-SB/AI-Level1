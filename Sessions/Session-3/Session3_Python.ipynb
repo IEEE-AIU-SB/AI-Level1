{
 "cells": [
  {
   "cell_type": "markdown",
   "metadata": {},
   "source": [
    "# What we will learn in today's session\n",
    "* Functions in Python:\n",
    "    * Explore function definitions, parameter types, lambda functions, and best practices.\n",
    "* File Systems in Python:\n",
    "    * Discuss file I/O, different file modes, using context managers, and working with the OS module.\n",
    "* Object-Oriented Programming (OOP) in Python:\n",
    "    * Cover core OOP principles like encapsulation, inheritance, polymorphism, and practical class design.\n",
    "* Magic Functions in python:\n",
    "    * Customize your classes using special methods, also known as magic methods or dunder methods."
   ]
  },
  {
   "cell_type": "markdown",
   "metadata": {},
   "source": [
    "# Functions in python\n",
    "\n",
    "## What are functions?\n",
    "Functions are blocks of reusable code that perform a specific task. They help in breaking down complex problems into manageable pieces.\n",
    "\n",
    "## Benefits\n",
    "* **Reusability**: Write once, reuse multiple times.\n",
    "* **Modularity**: Divide code into independent, self-contained blocks.\n",
    "* **Maintainability**: Easier to update and debug since each function has a single responsibility."
   ]
  },
  {
   "cell_type": "markdown",
   "metadata": {},
   "source": [
    "## Let us define a function:\n",
    "Use the `def` keyword to define a function, followed by the function name, parameters in parentheses, and a colon. The code block inside the function must be indented."
   ]
  },
  {
   "cell_type": "code",
   "execution_count": 1,
   "metadata": {},
   "outputs": [
    {
     "name": "stdout",
     "output_type": "stream",
     "text": [
      "Hello, Seif!\n"
     ]
    }
   ],
   "source": [
    "def greet(name):\n",
    "    return f\"Hello, {name}!\"\n",
    "\n",
    "# Calling the function\n",
    "message = greet(\"Seif\")\n",
    "print(message) "
   ]
  },
  {
   "cell_type": "markdown",
   "metadata": {},
   "source": [
    "## Parameters & Arguments\n",
    "* **Positional Arguments**: Passed in order; their position matters.\n",
    "* **Keyword Arguments**: Passed by explicitly naming them, which makes the code more readable.\n",
    "* **Default Parameters**: Assign default values to parameters so that they become optional during the call."
   ]
  },
  {
   "cell_type": "code",
   "execution_count": 4,
   "metadata": {},
   "outputs": [
    {
     "name": "stdout",
     "output_type": "stream",
     "text": [
      "9\n",
      "27\n"
     ]
    }
   ],
   "source": [
    "def power(base, exponent=2):\n",
    "    return base ** exponent\n",
    "\n",
    "print(power(3))     # Uses default exponent (2)\n",
    "print(power(3, 3))  # Overrides default"
   ]
  },
  {
   "cell_type": "markdown",
   "metadata": {},
   "source": [
    "* **Variable-Length Arguments**:\n",
    "\n",
    "    * `*args`: Allows you to pass a variable number of positional arguments (collected as a tuple).\n",
    "    * `**kwargs`: Allows you to pass a variable number of keyword arguments (collected as a dictionary)."
   ]
  },
  {
   "cell_type": "code",
   "execution_count": 13,
   "metadata": {},
   "outputs": [
    {
     "name": "stdout",
     "output_type": "stream",
     "text": [
      "Positional arguments: (1, 2, 3)\n",
      "Keyword arguments: {'name': 'Youssef', 'age': 30}\n"
     ]
    }
   ],
   "source": [
    "def display_info(*args, **kwargs):\n",
    "\n",
    "    print(\"Positional arguments:\", args)    # collects additional positional arguments.\n",
    "    print(\"Keyword arguments:\", kwargs)     # collects additional keyword arguments.\n",
    "\n",
    "display_info(1, 2, 3, name=\"Youssef\", age=30)"
   ]
  },
  {
   "cell_type": "code",
   "execution_count": 12,
   "metadata": {},
   "outputs": [
    {
     "name": "stdout",
     "output_type": "stream",
     "text": [
      "Meeting Participants:\n",
      " - Ahmed\n",
      " - Mohamed\n",
      " - Sameh\n",
      "\n",
      "Meeting Details:\n",
      "Date: 2023-05-10\n",
      "Time: 10:00 AM\n",
      "Location: Conference Room A\n"
     ]
    }
   ],
   "source": [
    "def display_info(*args, **kwargs):\n",
    " \n",
    "    if args:\n",
    "        print(\"Meeting Participants:\")\n",
    "        for participant in args:\n",
    "            print(f\" - {participant}\")\n",
    "    if kwargs:\n",
    "        print(\"\\nMeeting Details:\")\n",
    "        for key, value in kwargs.items():\n",
    "            print(f\"{key.capitalize()}: {value}\")\n",
    "\n",
    "display_info(\n",
    "    \"Ahmed\", \"Mohamed\", \"Sameh\",\n",
    "    date=\"2023-05-10\",\n",
    "    time=\"10:00 AM\",\n",
    "    location=\"Conference Room A\"\n",
    ")"
   ]
  },
  {
   "cell_type": "markdown",
   "metadata": {},
   "source": [
    "## Purpose of the Return Statement\n",
    "* **Output Value**:\n",
    "The primary purpose of `return` is to send a value (or multiple values) back to the caller of the function. This output can be stored in a variable, used in expressions, or even passed to another function.\n",
    "\n",
    "* **Terminate Function Execution**:\n",
    "When a `return` statement is executed, the function stops executing immediately. Any code after the `return` statement inside that function is skipped."
   ]
  },
  {
   "cell_type": "code",
   "execution_count": null,
   "metadata": {},
   "outputs": [
    {
     "name": "stdout",
     "output_type": "stream",
     "text": [
      "8\n"
     ]
    }
   ],
   "source": [
    "def add(a, b):\n",
    "    return a + b    \n",
    "\n",
    "result = add(3, 5)\n",
    "print(result) "
   ]
  },
  {
   "cell_type": "markdown",
   "metadata": {},
   "source": [
    "## Returning Multiple Values\n",
    "Python allows functions to return multiple values by separating them with commas. These values are automatically packed into a tuple."
   ]
  },
  {
   "cell_type": "code",
   "execution_count": 14,
   "metadata": {},
   "outputs": [
    {
     "name": "stdout",
     "output_type": "stream",
     "text": [
      "Anas\n",
      "30\n"
     ]
    }
   ],
   "source": [
    "def get_person_info():\n",
    "    name = \"Anas\"\n",
    "    age = 30\n",
    "                        \n",
    "    return name, age        # Returning multiple values as a tuple\n",
    "\n",
    "person_name, person_age = get_person_info()\n",
    "\n",
    "print(person_name)\n",
    "print(person_age)   "
   ]
  },
  {
   "cell_type": "markdown",
   "metadata": {},
   "source": [
    "## Lambda function\n",
    "\n",
    "### Concept and Use Cases:\n",
    "Lambda functions are anonymous functions defined with the lambda keyword. They are ideal for small, one-off operations."
   ]
  },
  {
   "cell_type": "code",
   "execution_count": 6,
   "metadata": {},
   "outputs": [
    {
     "name": "stdout",
     "output_type": "stream",
     "text": [
      "25\n"
     ]
    }
   ],
   "source": [
    "square = lambda x: x * x\n",
    "print(square(5))  "
   ]
  },
  {
   "cell_type": "markdown",
   "metadata": {},
   "source": [
    "## Best Practices\n",
    "\n",
    "* **Clear Naming**:\n",
    "    * Use descriptive names that indicate the function’s purpose.\n",
    "* **Documentation (Docstrings)**:\n",
    "    * Include a docstring at the beginning of your function to explain its behavior, parameters, and return values.\n",
    "* **Single Responsibility**:\n",
    "    * Keep functions focused on one task to make them easier to test and maintain.\n",
    "* **Code Readability**:\n",
    "    * Write clean and concise code; avoid overly complex functions."
   ]
  },
  {
   "cell_type": "markdown",
   "metadata": {},
   "source": [
    "# File Systems in Python"
   ]
  },
  {
   "cell_type": "markdown",
   "metadata": {},
   "source": [
    "## Overview of File I/O\n",
    "### Importance:\n",
    "File I/O is essential for applications that need to persist data, read configuration files, or process input data.\n",
    "### File Modes:\n",
    "* `'r'`: Read mode (default).\n",
    "* `'w'`: Write mode (creates or overwrites).\n",
    "* `'a'`: Append mode (adds data to the end of the file)."
   ]
  },
  {
   "cell_type": "markdown",
   "metadata": {},
   "source": [
    "## Reading files\n",
    "Using the `open()` function with context managers (`with` statement)"
   ]
  },
  {
   "cell_type": "code",
   "execution_count": 16,
   "metadata": {},
   "outputs": [
    {
     "name": "stdout",
     "output_type": "stream",
     "text": [
      "Hi, my name is Seif Elkerdany.\n",
      "I am 21 years old.\n"
     ]
    }
   ],
   "source": [
    "with open('example.txt', 'r') as file:\n",
    "    content = file.read()\n",
    "    print(content)"
   ]
  },
  {
   "cell_type": "markdown",
   "metadata": {},
   "source": [
    "## Writing files\n",
    "Different file modes: `'w'` for writing, `'a'` for appending"
   ]
  },
  {
   "cell_type": "code",
   "execution_count": 18,
   "metadata": {},
   "outputs": [],
   "source": [
    "with open('output.txt', 'w') as file:\n",
    "    file.write(\"This is a sample text.\\nYou can write anything.\")"
   ]
  },
  {
   "cell_type": "markdown",
   "metadata": {},
   "source": [
    "## Appending data\n",
    "Use `'a'` and you will write on the file."
   ]
  },
  {
   "cell_type": "code",
   "execution_count": null,
   "metadata": {},
   "outputs": [],
   "source": [
    "with open('output.txt', 'a') as file:\n",
    "    file.write(\"\\nI love IEEE-AIU\")"
   ]
  },
  {
   "cell_type": "markdown",
   "metadata": {},
   "source": [
    "## Working with the OS Module\n",
    "The `os` module helps interact with the operating system"
   ]
  },
  {
   "cell_type": "code",
   "execution_count": 22,
   "metadata": {},
   "outputs": [
    {
     "name": "stdout",
     "output_type": "stream",
     "text": [
      "Directory entries: ['example.txt', 'Session3_Python.ipynb']\n"
     ]
    }
   ],
   "source": [
    "import os\n",
    "\n",
    "# List files in the current directory\n",
    "entries = os.listdir('.')\n",
    "print(\"Directory entries:\", entries)\n",
    "\n",
    "# Create a new directory\n",
    "os.mkdir('new_folder')\n",
    "\n",
    "# Rename a file or directory\n",
    "os.rename('example.txt', 'renamed_output.txt')"
   ]
  },
  {
   "cell_type": "markdown",
   "metadata": {},
   "source": [
    "## Exception Handling \n",
    "Handling errors during file operations using try-except blocks."
   ]
  },
  {
   "cell_type": "code",
   "execution_count": null,
   "metadata": {},
   "outputs": [
    {
     "name": "stdout",
     "output_type": "stream",
     "text": [
      "Error: Division by zero is not allowed.\n",
      "Execution of divide_numbers completed.\n",
      "Result: None \n",
      "\n",
      "Division successful!\n",
      "Execution of divide_numbers completed.\n",
      "Result: 5.0 \n",
      "\n",
      "Error: Both a and b must be numbers.\n",
      "Execution of divide_numbers completed.\n",
      "Result: None\n"
     ]
    }
   ],
   "source": [
    "def divide_numbers(a, b):\n",
    "    \"\"\"\n",
    "    Divides a by b and handles exceptions for division by zero\n",
    "    and invalid data types.\n",
    "    \"\"\"\n",
    "    try:\n",
    "        # Attempt the division operation\n",
    "        result = a / b\n",
    "    except ZeroDivisionError:\n",
    "        # Handle division by zero error\n",
    "        print(\"Error: Division by zero is not allowed.\")\n",
    "        result = None\n",
    "    except TypeError:\n",
    "        # Handle error when a or b is not a number\n",
    "        print(\"Error: Both a and b must be numbers.\")\n",
    "        result = None\n",
    "    else:\n",
    "        # Executes if no exceptions are raised\n",
    "        print(\"Division successful!\")\n",
    "    finally:\n",
    "        # This block runs regardless of an exception occurring\n",
    "        print(\"Execution of divide_numbers completed.\")\n",
    "    \n",
    "    return result\n",
    "\n",
    "print(\"Result:\", divide_numbers(10, 0), \"\\n\")    # Expected output: None with division error message\n",
    "print(\"Result:\", divide_numbers(10, 2), \"\\n\")    # Expected output: 5.0 with success messages\n",
    "print(\"Result:\", divide_numbers(10, \"2\"))        # Expected output: None with type error message"
   ]
  },
  {
   "cell_type": "markdown",
   "metadata": {},
   "source": [
    "# Object-Oriented Programming (OOP) in Python\n",
    "### Definition:\n",
    "OOP is a paradigm based on the concept of “objects,” which are instances of classes. It promotes organizing code around data (attributes) and functions (methods) that operate on that data.\n",
    "\n",
    "### Core Principles:\n",
    "* **Encapsulation**: Bundling data and methods that operate on the data, and restricting direct access to some components.\n",
    "* **Inheritance**: Allowing new classes to inherit attributes and methods from existing classes.\n",
    "* **Polymorphism**: Enabling methods to behave differently based on the object’s class.\n",
    "\n",
    "Think of a class as a blueprint (like a car blueprint) and objects as actual cars built from that blueprint."
   ]
  },
  {
   "cell_type": "markdown",
   "metadata": {},
   "source": [
    "## Defining a Class and Creating Objects\n",
    "### Class Structure:\n",
    "* **Attributes**: Variables that hold data specific to an object.\n",
    "* **Methods**: Functions that define the behaviors of the objects.\n",
    "* **Constructor (`__init__`)**: A special method for initializing new objects."
   ]
  },
  {
   "cell_type": "code",
   "execution_count": 30,
   "metadata": {},
   "outputs": [
    {
     "name": "stdout",
     "output_type": "stream",
     "text": [
      "Hello, my name is Fares and I am 15 years old.\n"
     ]
    }
   ],
   "source": [
    "class Person:\n",
    "    def __init__(self, name, age):\n",
    "        \"\"\"Initialize the Person object with a name and age.\"\"\"\n",
    "        self.name = name\n",
    "        self.age = age\n",
    "\n",
    "    def greet(self):\n",
    "        \"\"\"Return a greeting message.\"\"\"\n",
    "        return f\"Hello, my name is {self.name} and I am {self.age} years old.\"\n",
    "\n",
    "# Creating an instance of Person\n",
    "person1 = Person(\"Fares\", 15)\n",
    "print(person1.greet())  "
   ]
  },
  {
   "cell_type": "markdown",
   "metadata": {},
   "source": [
    "## Inheritance\n",
    "Inheritance allows a new class (child class) to inherit attributes and methods from an existing class (parent class), enabling code reuse and hierarchical relationships."
   ]
  },
  {
   "cell_type": "code",
   "execution_count": 32,
   "metadata": {},
   "outputs": [
    {
     "name": "stdout",
     "output_type": "stream",
     "text": [
      "Hello, my name is Shady and I am 22 years old.\n",
      "My student ID is 12345.\n"
     ]
    }
   ],
   "source": [
    "class Student(Person):\n",
    "    def __init__(self, name, age, student_id):\n",
    "        \"\"\"Initialize the Student object, extending the Person class.\"\"\"\n",
    "        super().__init__(name, age)\n",
    "        self.student_id = student_id\n",
    "\n",
    "    def display_id(self):\n",
    "        \"\"\"Return the student's ID.\"\"\"\n",
    "        return f\"My student ID is {self.student_id}.\"\n",
    "\n",
    "# Creating an instance of Student\n",
    "student1 = Student(\"Shady\", 22, \"12345\")\n",
    "print(student1.greet())         # Inherited from Person\n",
    "print(student1.display_id())    # Specific to Student"
   ]
  },
  {
   "cell_type": "markdown",
   "metadata": {},
   "source": [
    "## Encapsulation and Polymorphism\n",
    "* **Encapsulation**:\n",
    "The idea of hiding the internal state of an object and only allowing access through methods. In Python, a convention is to use a single underscore (`_attribute`) to indicate a protected member.\n",
    "\n",
    "* **Polymorphism**:\n",
    "Different classes can define methods with the same name. The correct method is called based on the type of the object."
   ]
  },
  {
   "cell_type": "code",
   "execution_count": 33,
   "metadata": {},
   "outputs": [
    {
     "name": "stdout",
     "output_type": "stream",
     "text": [
      "Woof!\n",
      "Meow!\n"
     ]
    }
   ],
   "source": [
    "class Animal:\n",
    "    def speak(self):\n",
    "        \"\"\"Return a generic animal sound.\"\"\"\n",
    "        return \"Some sound\"\n",
    "\n",
    "class Dog(Animal):\n",
    "    def speak(self):\n",
    "        \"\"\"Return the sound specific to a dog.\"\"\"\n",
    "        return \"Woof!\"\n",
    "\n",
    "class Cat(Animal):\n",
    "    def speak(self):\n",
    "        \"\"\"Return the sound specific to a cat.\"\"\"\n",
    "        return \"Meow!\"\n",
    "\n",
    "# Demonstrating polymorphism\n",
    "animals = [Dog(), Cat()]\n",
    "for animal in animals:\n",
    "    print(animal.speak())"
   ]
  },
  {
   "cell_type": "markdown",
   "metadata": {},
   "source": [
    "## Best Practices in OOP\n",
    "* **Separation of Concerns**:\n",
    "Each class should have a single responsibility.\n",
    "* **Naming Conventions**:\n",
    "Use clear and descriptive names for classes, methods, and attributes.\n",
    "* **Documentation**:\n",
    "Include docstrings for classes and methods to explain their purpose and usage.\n",
    "* **Encapsulation**:\n",
    "Protect the internal state of objects by restricting direct access to attributes.\n",
    "* **Design Principles (Advanced)**:\n",
    "Follow SOLID principles where applicable to create maintainable and scalable code."
   ]
  },
  {
   "cell_type": "markdown",
   "metadata": {},
   "source": [
    "# Magic functions \n",
    "\n",
    "These methods allow you to customize how objects of your classes behave in built-in operations."
   ]
  },
  {
   "cell_type": "markdown",
   "metadata": {},
   "source": [
    "## Object Representation\n",
    "\n",
    "### `__repr__(self)`\n",
    "Returns an “official” string representation of an object that should, ideally, be unambiguous. It is used mainly for debugging.\n",
    "\n",
    "### `__str__(self)`\n",
    "Returns a “nicely printable” string representation of an object, intended for end-user consumption."
   ]
  },
  {
   "cell_type": "code",
   "execution_count": null,
   "metadata": {},
   "outputs": [
    {
     "name": "stdout",
     "output_type": "stream",
     "text": [
      "Person('Ammar', 50)\n",
      "Ammar, aged 50\n"
     ]
    }
   ],
   "source": [
    "class Person:\n",
    "    def __init__(self, name, age):\n",
    "        self.name = name\n",
    "        self.age = age\n",
    "\n",
    "    def __repr__(self):\n",
    "        \"\"\"\n",
    "        It is very useful for debugging as you can see the class instance and its data.\n",
    "        \"\"\"\n",
    "        return f\"Person('{self.name}', {self.age})\"\n",
    "\n",
    "    def __str__(self):\n",
    "        \"\"\"\n",
    "        Human-readable output.\n",
    "        \"\"\"\n",
    "        return f\"{self.name}, aged {self.age}\"\n",
    "\n",
    "p = Person(\"Ammar\", 50)\n",
    "\n",
    "print(repr(p)) \n",
    "print(p)  "
   ]
  },
  {
   "cell_type": "markdown",
   "metadata": {},
   "source": [
    "## Comparison and Ordering\n",
    "### `__eq__`, `__ne__`, `__lt__`, `__le__`, `__gt__`, `__ge__`\n",
    "#### These methods allow objects to be compared using operators such as ==, !=, <, <=, >, and >=.\n",
    "#### In Python’s operator overloading, the left-hand object is the one on which the magic method is invoked, and the right-hand object is passed as an argument. "
   ]
  },
  {
   "cell_type": "code",
   "execution_count": 22,
   "metadata": {},
   "outputs": [
    {
     "name": "stdout",
     "output_type": "stream",
     "text": [
      "False\n",
      "Error: '<' not supported between instances of 'Complex' and 'Complex'\n"
     ]
    }
   ],
   "source": [
    "class Complex:\n",
    "    def __init__(self, real, img):\n",
    "        self.real = real\n",
    "        self.img = img\n",
    "\n",
    "    def __ne__(self, other):\n",
    "        if isinstance(other, Complex):\n",
    "            return not (self.real == other.real and self.img == other.img)\n",
    "        return NotImplemented\n",
    "    \n",
    "    # def __lt__(self, other):\n",
    "    #     if isinstance(other, Complex):\n",
    "    #         # First compare the real parts\n",
    "    #         if self.real < other.real:\n",
    "    #             return True\n",
    "    #         elif self.real == other.real:\n",
    "    #             # If real parts are equal, compare imaginary parts\n",
    "    #             return self.img < other.img\n",
    "    #         else:\n",
    "    #             return False\n",
    "    #     return NotImplemented\n",
    "\n",
    "c1 = Complex(3, 4)\n",
    "c2 = Complex(1, 2)\n",
    "\n",
    "try:\n",
    "    print(c1 == c2)\n",
    "    print(c1 < c2)\n",
    "except TypeError as t:\n",
    "    print(\"Error:\", t)"
   ]
  },
  {
   "cell_type": "code",
   "execution_count": 23,
   "metadata": {},
   "outputs": [
    {
     "name": "stdout",
     "output_type": "stream",
     "text": [
      "False\n",
      "True\n",
      "False\n"
     ]
    }
   ],
   "source": [
    "class Number:\n",
    "    def __init__(self, value):\n",
    "        self.value = value\n",
    "\n",
    "    def __eq__(self, other):\n",
    "        if isinstance(other, Number):\n",
    "            return self.value == other.value\n",
    "        return NotImplemented\n",
    "\n",
    "    def __lt__(self, other):\n",
    "        if isinstance(other, Number):\n",
    "            return self.value < other.value\n",
    "        return NotImplemented\n",
    "\n",
    "n1 = Number(5)\n",
    "n2 = Number(10)\n",
    "\n",
    "print(n1 == n2)  \n",
    "print(n1 < n2)   \n",
    "print(n1 > n2)"
   ]
  },
  {
   "cell_type": "markdown",
   "metadata": {},
   "source": [
    "## Arithmetic and In-Place Operations\n",
    "* ### Arithmetic Operators\n",
    "    * Magic methods let you overload arithmetic operators for custom classes.\n",
    "\n",
    "    * `__add__(self, other)` for +\n",
    "    * `__sub__(self, other)` for -\n",
    "    * `__mul__(self, other)` for *\n",
    "    * `__truediv__(self, other)` for /\n",
    "    * `__floordiv__(self, other)` for //\n",
    "    * `__mod__(self, other)` for %\n",
    "    * `__pow__(self, other)` for **\n",
    "* ### In-Place Operators\n",
    "    * `__iadd__(self, other)` for +=\n",
    "    * `__isub__(self, other)` for -=, etc."
   ]
  },
  {
   "cell_type": "code",
   "execution_count": 29,
   "metadata": {},
   "outputs": [
    {
     "name": "stdout",
     "output_type": "stream",
     "text": [
      "Vector(4, 6)\n",
      "Vector(9223372036854775807, 9223372036854775807)\n"
     ]
    }
   ],
   "source": [
    "import sys\n",
    "\n",
    "class Vector:\n",
    "    def __init__(self, x, y):\n",
    "        self.x = x\n",
    "        self.y = y\n",
    "\n",
    "    def __add__(self, other):\n",
    "        if isinstance(other, Vector):\n",
    "            return Vector(self.x + other.x, self.y + other.y)\n",
    "        return NotImplemented\n",
    "    \n",
    "    def __truediv__(self, other):\n",
    "        if isinstance(other, Vector):\n",
    "            if other.x == 0 or other.y == 0:\n",
    "                return Vector(sys.maxsize, sys.maxsize)\n",
    "            else:\n",
    "                return Vector(self.x / other.x, self.y / other.y)\n",
    "        return NotImplemented\n",
    "\n",
    "    def __repr__(self):\n",
    "        \"\"\"\n",
    "        If I did not implemented __str__ it will automatically call __repr__ \n",
    "        \"\"\"\n",
    "        return f\"Vector({self.x}, {self.y})\"\n",
    "\n",
    "v1 = Vector(1, 2)\n",
    "v2 = Vector(3, 4)\n",
    "v3 = Vector(0, 0)\n",
    "\n",
    "print(v1 + v2)\n",
    "print(v1 / v3)  "
   ]
  },
  {
   "cell_type": "markdown",
   "metadata": {},
   "source": [
    "## Unary Operators\n",
    "### `__neg__(self)` for unary minus (e.g., -obj)\n",
    "### `__pos__(self)` for unary plus (e.g., +obj)\n",
    "### `__abs__(self)` for abs(obj)"
   ]
  },
  {
   "cell_type": "code",
   "execution_count": 32,
   "metadata": {},
   "outputs": [
    {
     "name": "stdout",
     "output_type": "stream",
     "text": [
      "Number(-10)\n",
      "Number(15)\n"
     ]
    }
   ],
   "source": [
    "class Number:\n",
    "    def __init__(self, value):\n",
    "        self.value = value\n",
    "\n",
    "    def __neg__(self):\n",
    "        return Number(-self.value)\n",
    "\n",
    "    def __abs__(self):\n",
    "        return Number(abs(self.value))\n",
    "\n",
    "    def __repr__(self):\n",
    "        return f\"Number({self.value})\"\n",
    "\n",
    "num = Number(10)\n",
    "print(-num)       \n",
    "print(abs(Number(-15))) "
   ]
  },
  {
   "cell_type": "markdown",
   "metadata": {},
   "source": [
    "## Container Emulation\n",
    "### Methods for Container Types\n",
    "* `__len__(self)` to return the length using `len(obj)`\n",
    "* `__getitem__(self, key)` for indexing/slicing (e.g., `obj[key]`)\n",
    "* `__setitem__(self, key, value)` to set an item (e.g., `obj[key] = value`)\n",
    "* `__delitem__(self, key)` to delete an item (e.g., `del obj[key]`)\n",
    "* `__iter__(self)` to make the object iterable\n",
    "* `__contains__(self, item)` to check for membership using `in`"
   ]
  },
  {
   "cell_type": "code",
   "execution_count": 38,
   "metadata": {},
   "outputs": [
    {
     "name": "stdout",
     "output_type": "stream",
     "text": [
      "Initial container: MyList([1, 2, 3])\n",
      "\n",
      "Length: 3\n",
      "Accessing item at index 1\n",
      "\n",
      "Item at index 1: 2\n",
      "Setting item at index 1 to 20\n",
      "\n",
      "After modification: MyList([1, 20, 3])\n",
      "Deleting item at index 0\n",
      "\n",
      "After deletion: MyList([20, 3])\n",
      "Checking if 20 is in MyList\n",
      "\n",
      "Is 20 in MyList? True\n",
      "\n",
      "Iterating over MyList:\n",
      "Creating iterator for MyList\n",
      "20\n",
      "3\n",
      "Appending 50\n",
      "\n",
      "After appending: MyList([20, 3, 50])\n"
     ]
    }
   ],
   "source": [
    "class MyList:\n",
    "    def __init__(self, data=None):\n",
    "        # Initialize the container with provided data or an empty list.\n",
    "        self.data = list(data) if data is not None else []\n",
    "\n",
    "    def __len__(self):\n",
    "        # Enables the use of len() on the container.\n",
    "        return len(self.data)\n",
    "\n",
    "    def __getitem__(self, index):\n",
    "        # Allows accessing items via indexing or slicing.\n",
    "        print(f\"Accessing item at index {index}\")\n",
    "        return self.data[index]\n",
    "\n",
    "    def __setitem__(self, index, value):\n",
    "        # Allows setting an item via indexing.\n",
    "        print(f\"Setting item at index {index} to {value}\")\n",
    "        self.data[index] = value\n",
    "\n",
    "    def __delitem__(self, index):\n",
    "        # Enables deletion of an item using del.\n",
    "        print(f\"Deleting item at index {index}\")\n",
    "        del self.data[index]\n",
    "\n",
    "    def __iter__(self):\n",
    "        # Returns an iterator over the container's items.\n",
    "        print(\"Creating iterator for MyList\")\n",
    "        return iter(self.data)\n",
    "\n",
    "    def __contains__(self, item):\n",
    "        # Allows checking for membership using the 'in' keyword.\n",
    "        print(f\"Checking if {item} is in MyList\")\n",
    "        return item in self.data\n",
    "\n",
    "    def __repr__(self):\n",
    "        # Returns an unambiguous string representation of the object.\n",
    "        return f\"MyList({self.data})\"\n",
    "\n",
    "    def append(self, item):\n",
    "        # Additional method to append an item to the container.\n",
    "        print(f\"Appending {item}\")\n",
    "        self.data.append(item)\n",
    "\n",
    "\n",
    "mylist = MyList([1, 2, 3])\n",
    "print(\"Initial container:\", mylist)\n",
    "\n",
    "# Length of container\n",
    "print(\"\\nLength:\", len(mylist))\n",
    "\n",
    "# Accessing an item\n",
    "print(\"\\nItem at index 1:\", mylist[1])\n",
    "\n",
    "# Modifying an item\n",
    "mylist[1] = 20\n",
    "print(\"\\nAfter modification:\", mylist)\n",
    "\n",
    "# Deleting an item\n",
    "del mylist[0]\n",
    "print(\"\\nAfter deletion:\", mylist)\n",
    "\n",
    "# Membership check\n",
    "print(\"\\nIs 20 in MyList?\", 20 in mylist)\n",
    "\n",
    "# Iterating over the container\n",
    "print(\"\\nIterating over MyList:\")\n",
    "for item in mylist:\n",
    "    print(item)\n",
    "\n",
    "# Appending a new item\n",
    "mylist.append(50)\n",
    "print(\"\\nAfter appending:\", mylist)"
   ]
  },
  {
   "cell_type": "markdown",
   "metadata": {},
   "source": [
    "## Callable Objects\n",
    "`__call__(self, ...)`\n",
    "This method allows an instance of a class to be called as a function."
   ]
  },
  {
   "cell_type": "code",
   "execution_count": 39,
   "metadata": {},
   "outputs": [
    {
     "name": "stdout",
     "output_type": "stream",
     "text": [
      "15\n"
     ]
    }
   ],
   "source": [
    "class Adder:\n",
    "    def __init__(self, n):\n",
    "        self.n = n\n",
    "\n",
    "    def __call__(self, x):\n",
    "        return self.n + x\n",
    "\n",
    "a = Adder(5)\n",
    "print(a(10))  "
   ]
  },
  {
   "cell_type": "markdown",
   "metadata": {},
   "source": [
    "## Context Management\n",
    "`__enter__` and `__exit__`\n",
    "These methods enable an object to be used in a with statement, managing setup and cleanup actions automatically.\n",
    "\n",
    "### `__enter__(self)`\n",
    "* When you use a with statement, Python calls the `__enter__` method at the very beginning of the block. This method is responsible for: \n",
    "* Setting up any necessary resources.\n",
    "* Optionally returning a value that can be assigned to a variable in the with statement.\n",
    "* For example, when opening a file using `with open(\"file.txt\") as f:`\n",
    "\n",
    "### `__exit__(self, exc_type, exc_value, traceback)`\n",
    "* When the with block ends—whether it ends normally or due to an exception—the `__exit__` method is automatically invoked. This method is responsible for:\n",
    "\n",
    "* Cleaning up the resource (e.g., closing a file).\n",
    "* Handling any exceptions that occurred within the block. The three arguments to `__exit__` provide details about the exception (if one occurred). If no exception occurred, all three values are None."
   ]
  },
  {
   "cell_type": "code",
   "execution_count": 41,
   "metadata": {},
   "outputs": [
    {
     "name": "stdout",
     "output_type": "stream",
     "text": [
      "Acquiring resource\n",
      "Using resource\n",
      "Releasing resource\n"
     ]
    }
   ],
   "source": [
    "class ManagedResource:\n",
    "    def __enter__(self):\n",
    "        print(\"Acquiring resource\")\n",
    "        return self\n",
    "\n",
    "    def __exit__(self, exc_type, exc_value, traceback):\n",
    "        print(\"Releasing resource\")\n",
    "    \n",
    "\n",
    "with ManagedResource() as resource:\n",
    "    print(\"Using resource\")"
   ]
  },
  {
   "cell_type": "markdown",
   "metadata": {},
   "source": [
    "## Other Noteworthy Magic Methods\n",
    "### `__hash__(self)`: Allows an object to be hashable (used in sets and as dictionary keys).\n",
    "### `__bool__(self)`: Defines the truth value of an object (used by bool(obj)).\n",
    "### `__format__(self, format_spec)`: Customizes behavior for the format() function and f-strings.\n",
    "### `__init_subclass__(cls, **kwargs)`: A hook called when a class is subclassed; useful for custom class initialization patterns."
   ]
  }
 ],
 "metadata": {
  "kernelspec": {
   "display_name": "Python 3",
   "language": "python",
   "name": "python3"
  },
  "language_info": {
   "codemirror_mode": {
    "name": "ipython",
    "version": 3
   },
   "file_extension": ".py",
   "mimetype": "text/x-python",
   "name": "python",
   "nbconvert_exporter": "python",
   "pygments_lexer": "ipython3",
   "version": "3.10.12"
  }
 },
 "nbformat": 4,
 "nbformat_minor": 2
}
