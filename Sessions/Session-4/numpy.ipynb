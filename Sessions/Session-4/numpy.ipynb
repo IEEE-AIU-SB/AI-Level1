{
 "cells": [
  {
   "cell_type": "markdown",
   "metadata": {},
   "source": [
    "# Introduction to NumPy \n",
    "\n",
    "NumPy (Numerical Python) is a powerful library for numerical computing in Python. It provides support for large, multi-dimensional arrays and matrices, along with a vast collection of mathematical functions that operate on these arrays efficiently.\n",
    "\n",
    "NumPy is an essential tool to help you perform fast numerical computations."
   ]
  },
  {
   "cell_type": "markdown",
   "id": "c5c8771e",
   "metadata": {},
   "source": [
    "# Why NumPy?\n",
    "\n",
    "**Choosing NumPy over ordinary Python lists offers several key advantages:**\n",
    "\n",
    "- **Homogeneous Data Storage:**  \n",
    "  NumPy arrays store elements of the same data type in contiguous memory blocks. This uniformity allows for efficient memory usage and faster access compared to Python lists, which store pointers to heterogeneous objects.\n",
    "\n",
    "- **Vectorized Operations:**  \n",
    "  NumPy leverages vectorized operations written in C. Instead of looping over elements in Python (which is slower due to interpreter overhead), operations are applied to entire arrays at once, significantly boosting performance.\n",
    "\n",
    "- **Optimized Low-Level Implementation:**  \n",
    "  Under the hood, many NumPy operations are implemented using optimized libraries such as BLAS and LAPACK. This means that mathematical and linear algebra operations run at speeds close to those of compiled languages.\n",
    "\n",
    "- **Memory Efficiency:**  \n",
    "  Since NumPy arrays use a fixed, compact data type for all elements, they are more memory efficient than lists, which store full Python objects with additional overhead.\n",
    "\n",
    "- **Convenient and Expressive:**  \n",
    "  NumPy's syntax is concise and allows for complex operations (like slicing, reshaping, and broadcasting) to be performed with minimal code, making it both powerful and easy to use.\n",
    "\n",
    "Overall, the combination of these features makes NumPy a go-to tool for numerical and scientific computing in Python, particularly when working with large datasets where performance and memory efficiency are critical."
   ]
  },
  {
   "cell_type": "code",
   "execution_count": 1,
   "id": "4334715c",
   "metadata": {},
   "outputs": [
    {
     "name": "stdout",
     "output_type": "stream",
     "text": [
      "List matrix multiplication took 10.901 seconds\n",
      "NumPy matrix multiplication took 0.003024 seconds\n"
     ]
    }
   ],
   "source": [
    "import random\n",
    "import time\n",
    "import numpy as np\n",
    "\n",
    "def create_random_matrix_list(m, n):\n",
    "    \"\"\"Creates an m x n matrix as a list of lists with random float values.\"\"\"\n",
    "    return [[random.random() for _ in range(n)] for _ in range(m)]\n",
    "\n",
    "def matrix_mult_list(A, B):\n",
    "    \"\"\"\n",
    "    Multiplies two matrices A and B using nested loops.\n",
    "    A should be of shape (m, n) and B of shape (n, p).\n",
    "    Returns the result as a list of lists of shape (m, p).\n",
    "    \"\"\"\n",
    "    m = len(A)\n",
    "    n = len(A[0])\n",
    "    p = len(B[0])\n",
    "\n",
    "    C = [[0] * p for _ in range(m)]\n",
    "    for i in range(m):\n",
    "        for j in range(p):\n",
    "            s = 0\n",
    "            for k in range(n):\n",
    "                s += A[i][k] * B[k][j]\n",
    "            C[i][j] = s\n",
    "    return C\n",
    "\n",
    "m, n, p = 512, 512, 512\n",
    "\n",
    "\n",
    "A_list = create_random_matrix_list(m, n)\n",
    "B_list = create_random_matrix_list(n, p)\n",
    "start_time_list = time.time()\n",
    "C_list = matrix_mult_list(A_list, B_list)\n",
    "end_time_list = time.time()\n",
    "print(\"List matrix multiplication took {:.3f} seconds\".format(end_time_list - start_time_list))\n",
    "\n",
    "\n",
    "A_np = np.random.rand(m, n)\n",
    "B_np = np.random.rand(n, p)\n",
    "start_time_np = time.time()\n",
    "C_np = np.dot(A_np, B_np)\n",
    "end_time_np = time.time()\n",
    "print(\"NumPy matrix multiplication took {:.6f} seconds\".format(end_time_np - start_time_np))"
   ]
  },
  {
   "cell_type": "markdown",
   "id": "a5fd81fa",
   "metadata": {},
   "source": [
    "# Creating a Virtual Environment\n",
    "\n",
    "A **virtual environment** is an isolated workspace for your Python project. It allows you to install and manage packages independently from the global Python installation. This isolation prevents dependency conflicts between projects and helps maintain a consistent development environment.\n",
    "\n",
    "---\n",
    "\n",
    "## Steps to Create a Virtual Environment\n",
    "\n",
    "### Windows\n",
    "\n",
    "1. **Open Command Prompt or PowerShell.**\n",
    "2. **Navigate to your project directory:**\n",
    "   ```bash\n",
    "   cd path\\to\\your\\project\n",
    "\n",
    "   python -m venv env\n",
    "\n",
    "   env\\Scripts\\activate\n",
    "\n",
    "   deactivate\n",
    "   ```\n",
    "\n",
    "### Linux and MacOS \n",
    "\n",
    "1. **Open Terminal**\n",
    "2. **Navigate to your project directory**\n",
    "   ```bash\n",
    "      cd /path/to/your/project\n",
    "   ```\n",
    "3. **Create the virtual environment using the built-in venv module**\n",
    "   ```bash\n",
    "      python3 -m venv env\n",
    "   ```\n",
    "4. **Activate the virtual environment**\n",
    "   ```bash\n",
    "      source env/bin/activate\n",
    "      \n",
    "      ...\n",
    "\n",
    "      deactivate\n",
    "   ```"
   ]
  },
  {
   "cell_type": "markdown",
   "metadata": {},
   "source": [
    "## Installing NumPy\n",
    "\n",
    "If you don't already have NumPy installed, you can install it using pip. Run the following command in a notebook cell or your terminal:"
   ]
  },
  {
   "cell_type": "code",
   "execution_count": null,
   "metadata": {},
   "outputs": [],
   "source": [
    "!pip install numpy  "
   ]
  },
  {
   "cell_type": "markdown",
   "metadata": {},
   "source": [
    "## Importing NumPy\n",
    "\n",
    "After installation, import NumPy. By convention, we import it as `np` for brevity."
   ]
  },
  {
   "cell_type": "code",
   "execution_count": 2,
   "metadata": {},
   "outputs": [],
   "source": [
    "import numpy as np "
   ]
  },
  {
   "cell_type": "markdown",
   "metadata": {},
   "source": [
    "## Creating Arrays\n",
    "\n",
    "NumPy arrays are similar to Python lists, but they allow for efficient computation. Here we create a one-dimensional array from a Python list."
   ]
  },
  {
   "cell_type": "code",
   "execution_count": 3,
   "metadata": {},
   "outputs": [
    {
     "name": "stdout",
     "output_type": "stream",
     "text": [
      "1D array: [1 2 3 4 5]\n"
     ]
    }
   ],
   "source": [
    "# Creating a 1D array from a Python list\n",
    "a = np.array([1, 2, 3, 4, 5])\n",
    "print(\"1D array:\", a)"
   ]
  },
  {
   "cell_type": "code",
   "execution_count": 8,
   "id": "274607c8",
   "metadata": {},
   "outputs": [
    {
     "name": "stdout",
     "output_type": "stream",
     "text": [
      "Zeros array:\n",
      " [[0. 0. 0.]\n",
      " [0. 0. 0.]]\n",
      "Ones array:\n",
      " [[1. 1. 1.]\n",
      " [1. 1. 1.]]\n",
      "Random values array:\n",
      " [[3.53627e-319 0.00000e+000 2.47033e-322]\n",
      " [2.96439e-322 3.95253e-322 4.44659e-322]]\n"
     ]
    }
   ],
   "source": [
    "zeros_arr = np.zeros((2, 3))\n",
    "ones_arr = np.ones((2, 3))\n",
    "ran = np.ndarray((2, 3))\n",
    "\n",
    "print(\"Zeros array:\\n\", zeros_arr)\n",
    "print(\"Ones array:\\n\", ones_arr)\n",
    "print(\"Random values array:\\n\", ran)"
   ]
  },
  {
   "cell_type": "markdown",
   "id": "3f8dbfef",
   "metadata": {},
   "source": [
    "## Every NumPy array has a data type (dtype) that specifies the type of its elements. Some common data types include:\n",
    "\n",
    "* Integers: np.int32, np.int64\n",
    "* Floats: np.float32, np.float64\n",
    "* Complex Numbers: np.complex64, np.complex128\n",
    "* Booleans: np.bool_\n",
    "* Strings: np.str_ "
   ]
  },
  {
   "cell_type": "code",
   "execution_count": 9,
   "id": "6683d6d9",
   "metadata": {},
   "outputs": [
    {
     "name": "stdout",
     "output_type": "stream",
     "text": [
      "Integer array: [1 2 3 4] with dtype: int32\n",
      "Float array: [1. 2. 3. 4.] with dtype: float64\n"
     ]
    }
   ],
   "source": [
    "# Creating arrays with specified data types\n",
    "arr_int = np.array([1, 2, 3, 4], dtype=np.int32)\n",
    "arr_float = np.array([1, 2, 3, 4], dtype=np.float64)\n",
    "print(\"Integer array:\", arr_int, \"with dtype:\", arr_int.dtype)\n",
    "print(\"Float array:\", arr_float, \"with dtype:\", arr_float.dtype)"
   ]
  },
  {
   "cell_type": "code",
   "execution_count": 10,
   "id": "cf13c400",
   "metadata": {},
   "outputs": [
    {
     "name": "stdout",
     "output_type": "stream",
     "text": [
      "Converted to float: [1. 2. 3. 4.] with dtype: float64\n"
     ]
    }
   ],
   "source": [
    "# Converting an integer array to a float array\n",
    "arr_float_converted = arr_int.astype(np.float64)\n",
    "print(\"Converted to float:\", arr_float_converted, \"with dtype:\", arr_float_converted.dtype)"
   ]
  },
  {
   "cell_type": "markdown",
   "metadata": {},
   "source": [
    "## Creating Arrays with `arange` and `linspace`\n",
    "\n",
    "NumPy provides several functions to create arrays with evenly spaced values. Use `np.arange` for step-based sequences and `np.linspace` for a specified number of points between two values."
   ]
  },
  {
   "cell_type": "code",
   "execution_count": 4,
   "metadata": {},
   "outputs": [
    {
     "name": "stdout",
     "output_type": "stream",
     "text": [
      "Array using arange: [0 1 2 3 4 5 6 7 8 9]\n",
      "Array using linspace: [0.   0.25 0.5  0.75 1.  ]\n"
     ]
    }
   ],
   "source": [
    "# Using arange to create an array of values from 0 to 9\n",
    "b = np.arange(10)\n",
    "print(\"Array using arange:\", b)\n",
    "\n",
    "# Using linspace to create an array of 5 values between 0 and 1\n",
    "c = np.linspace(0, 1, 5)\n",
    "print(\"Array using linspace:\", c)"
   ]
  },
  {
   "cell_type": "markdown",
   "metadata": {},
   "source": [
    "## Array Attributes\n",
    "\n",
    "Each NumPy array has attributes that describe its structure and properties such as shape, size, and data type."
   ]
  },
  {
   "cell_type": "code",
   "execution_count": 5,
   "metadata": {},
   "outputs": [
    {
     "name": "stdout",
     "output_type": "stream",
     "text": [
      "Shape of a: (5,)\n",
      "Size of a: 5\n",
      "Data type of a: int64\n"
     ]
    }
   ],
   "source": [
    "print(\"Shape of a:\", a.shape)  # Dimensions of the array\n",
    "print(\"Size of a:\", a.size)    # Total number of elements\n",
    "print(\"Data type of a:\", a.dtype)  # Data type of array elements"
   ]
  },
  {
   "cell_type": "markdown",
   "metadata": {},
   "source": [
    "## Indexing and Slicing\n",
    "\n",
    "Access individual elements or slices of an array using indexing and slicing, much like with Python lists."
   ]
  },
  {
   "cell_type": "code",
   "execution_count": 6,
   "metadata": {},
   "outputs": [
    {
     "name": "stdout",
     "output_type": "stream",
     "text": [
      "First element of a: 1\n",
      "Slice of a [1:4]: [2 3 4]\n"
     ]
    }
   ],
   "source": [
    "# Accessing elements\n",
    "print(\"First element of a:\", a[0])\n",
    "\n",
    "# Slicing: get elements from index 1 to 3 (4 is excluded)\n",
    "print(\"Slice of a [1:4]:\", a[1:4])"
   ]
  },
  {
   "cell_type": "code",
   "execution_count": null,
   "id": "2b6d37fd",
   "metadata": {},
   "outputs": [
    {
     "name": "stdout",
     "output_type": "stream",
     "text": [
      "Element at row 1, column 2: 60\n",
      "First two rows:\n",
      " [[10 20 30]\n",
      " [40 50 60]]\n",
      "Last two columns:\n",
      " [[20 30]\n",
      " [50 60]\n",
      " [80 90]]\n",
      "Bottom-right 2x2 subarray:\n",
      " [[50 60]\n",
      " [80 90]]\n"
     ]
    }
   ],
   "source": [
    "arr2d = np.array([\n",
    "    [10, 20, 30],\n",
    "    [40, 50, 60],\n",
    "    [70, 80, 90]\n",
    "])\n",
    "\n",
    "# Access the element at row 1, column 2 (remember indexing starts at 0)\n",
    "print(\"Element at row 1, column 2:\", arr2d[1, 2]) \n",
    "\n",
    "# Get the first two rows and all columns\n",
    "print(\"First two rows:\\n\", arr2d[0:2, :])\n",
    "\n",
    "# Get all rows and the last two columns\n",
    "print(\"Last two columns:\\n\", arr2d[:, 1:])\n",
    "\n",
    "# Get a subarray (bottom-right 2x2 subarray)\n",
    "print(\"Bottom-right 2x2 subarray:\\n\", arr2d[1:3, 1:3])"
   ]
  },
  {
   "cell_type": "markdown",
   "metadata": {},
   "source": [
    "## Mathematical Operations\n",
    "### Element-wise\n",
    "Perform element-wise arithmetic operations on arrays. NumPy also provides many universal functions (ufuncs) that operate on arrays."
   ]
  },
  {
   "cell_type": "code",
   "execution_count": 13,
   "metadata": {},
   "outputs": [],
   "source": [
    "a = np.array([1, 2, 3, 4])\n",
    "b = np.array([10, 20, 30, 40])\n",
    "c = np.array([1, 2, 3, 0])"
   ]
  },
  {
   "cell_type": "code",
   "execution_count": 20,
   "id": "e1932852",
   "metadata": {},
   "outputs": [
    {
     "name": "stdout",
     "output_type": "stream",
     "text": [
      "Addition: [11 22 33 44]\n",
      "\n",
      "Subtraction: [ -9 -18 -27 -36]\n",
      "\n",
      "Multiplication: [ 10  40  90 160]\n",
      "\n",
      "Division: [10. 10. 10. 10.]\n",
      "\n",
      "Division: [ 1.  1.  1. inf]\n"
     ]
    },
    {
     "name": "stderr",
     "output_type": "stream",
     "text": [
      "/tmp/ipykernel_28325/3110378177.py:13: RuntimeWarning: divide by zero encountered in divide\n",
      "  print(\"\\nDivision:\", a / c)\n"
     ]
    }
   ],
   "source": [
    "# Addition: adds corresponding elements\n",
    "print(\"Addition:\", a + b)        \n",
    "\n",
    "# Subtraction: subtracts corresponding elements\n",
    "print(\"\\nSubtraction:\", a - b)     \n",
    "\n",
    "# Multiplication: multiplies corresponding elements\n",
    "print(\"\\nMultiplication:\", a * b)   \n",
    "\n",
    "# Division: divides corresponding elements\n",
    "print(\"\\nDivision:\", b / a)         \n",
    "\n",
    "print(\"\\nDivision:\", a / c)"
   ]
  },
  {
   "cell_type": "code",
   "execution_count": 19,
   "id": "6645e7c5",
   "metadata": {},
   "outputs": [
    {
     "name": "stdout",
     "output_type": "stream",
     "text": [
      "Exponentiation: [ 1  4  9 16]\n",
      "\n",
      "Square Root: [1.         1.41421356 1.73205081 2.        ]\n",
      "\n",
      "Natural Logarithm: [0.         0.69314718 1.09861229 1.38629436]\n",
      "\n",
      "Base-10 Logarithm: [0.         0.30103    0.47712125 0.60205999]\n",
      "\n",
      "Sine: [ 0.84147098  0.90929743  0.14112001 -0.7568025 ]\n",
      "\n",
      "Cosine: [ 0.54030231 -0.41614684 -0.9899925  -0.65364362]\n"
     ]
    }
   ],
   "source": [
    "# Advanced Element-wise operations\n",
    "\n",
    "print(\"Exponentiation:\", np.power(a, 2))  \n",
    "\n",
    "print(\"\\nSquare Root:\", np.sqrt(a))\n",
    "\n",
    "print(\"\\nNatural Logarithm:\", np.log(a))\n",
    "print(\"\\nBase-10 Logarithm:\", np.log10(a))\n",
    "\n",
    "print(\"\\nSine:\", np.sin(a))\n",
    "print(\"\\nCosine:\", np.cos(a))"
   ]
  },
  {
   "cell_type": "code",
   "execution_count": 21,
   "id": "843c2b6d",
   "metadata": {},
   "outputs": [
    {
     "name": "stdout",
     "output_type": "stream",
     "text": [
      "Elements greater than 2: [False False  True  True]\n"
     ]
    }
   ],
   "source": [
    "# Comparison operation returns a boolean array\n",
    "print(\"Elements greater than 2:\", a > 2)"
   ]
  },
  {
   "cell_type": "markdown",
   "metadata": {},
   "source": [
    "# Broadcasting in NumPy\n",
    "\n",
    "Broadcasting is a mechanism that allows NumPy to perform arithmetic operations on arrays of different shapes. Instead of requiring arrays to have identical shapes, NumPy \"stretches\" or \"replicates\" the smaller array along the dimensions where its size is 1 (or missing) to match the shape of the larger array. This enables element-wise operations without the need for manual reshaping or copying data.\n",
    "\n",
    "---\n",
    "\n",
    "## How Broadcasting Works\n",
    "\n",
    "1. **Shape Alignment:**  \n",
    "   When performing operations on two arrays, NumPy compares their shapes starting from the trailing (rightmost) dimensions. If the shapes differ, the smaller array is virtually \"expanded\" by prepending dimensions of size 1 until both arrays have the same number of dimensions.\n",
    "\n",
    "2. **Compatibility Rules:**  \n",
    "   For two dimensions to be compatible:\n",
    "   - They are equal, **or**\n",
    "   - One of them is 1.\n",
    "   \n",
    "   If these conditions are met, NumPy proceeds with the operation by virtually replicating the elements along the dimension with size 1.\n",
    "\n",
    "3. **Result Shape:**  \n",
    "   The resulting array will have a shape where each dimension is the maximum size along that dimension from the two input arrays. Importantly, broadcasting does not physically duplicate data; it only simulates the expansion of the smaller array."
   ]
  },
  {
   "cell_type": "code",
   "execution_count": 23,
   "metadata": {},
   "outputs": [
    {
     "name": "stdout",
     "output_type": "stream",
     "text": [
      "2D Array A:\n",
      " [[ 0  0  0]\n",
      " [10 10 10]\n",
      " [20 20 20]\n",
      " [30 30 30]]\n",
      "\n",
      "1D Array B: [1 2 3]\n",
      "\n",
      "Result of A + B:\n",
      " [[ 1  2  3]\n",
      " [11 12 13]\n",
      " [21 22 23]\n",
      " [31 32 33]]\n"
     ]
    }
   ],
   "source": [
    "A = np.array([\n",
    "    [0, 0, 0],\n",
    "    [10, 10, 10],\n",
    "    [20, 20, 20],\n",
    "    [30, 30, 30]\n",
    "])                      # shape: (4, 3)\n",
    "\n",
    "B = np.array([1, 2, 3]) # shape: (1, 3)\n",
    "\n",
    "# Broadcasting: B is virtually reshaped to (1, 3) and then broadcast to (4, 3)\n",
    "result = A + B\n",
    "\n",
    "print(\"2D Array A:\\n\", A)\n",
    "print(\"\\n1D Array B:\", B)\n",
    "print(\"\\nResult of A + B:\\n\", result)"
   ]
  },
  {
   "cell_type": "markdown",
   "metadata": {},
   "source": [
    "## Reshaping Arrays\n",
    "\n",
    "Reshape an array without changing its data. This is useful when you need to convert a 1D array into a 2D array (or vice versa) for computations."
   ]
  },
  {
   "cell_type": "code",
   "execution_count": null,
   "metadata": {},
   "outputs": [
    {
     "name": "stdout",
     "output_type": "stream",
     "text": [
      "Reshaped array (2x3):\n",
      " [[0 1 2]\n",
      " [3 4 5]]\n",
      "Flattened array: [0 1 2 3 4 5]\n"
     ]
    }
   ],
   "source": [
    "d = np.arange(6)\n",
    "\n",
    "# Reshape the array to a 2x3 matrix\n",
    "d_reshaped = d.reshape(2, 3)\n",
    "print(\"Reshaped array (2x3):\\n\", d_reshaped)\n",
    "\n",
    "# Flatten the array back to 1D\n",
    "d_flat = d_reshaped.flatten()\n",
    "print(\"Flattened array:\", d_flat)"
   ]
  },
  {
   "cell_type": "code",
   "execution_count": null,
   "id": "fd154c2d",
   "metadata": {},
   "outputs": [
    {
     "name": "stdout",
     "output_type": "stream",
     "text": [
      "Error: cannot reshape array of size 7 into shape (2,3)\n"
     ]
    }
   ],
   "source": [
    "d2 = np.arange(7)\n",
    "\n",
    "try:\n",
    "    d2_reshaped = d2.reshape(2, 3)\n",
    "    print(\"Reshaped array (2x3):\\n\", d2_reshaped)\n",
    "except ValueError as e:\n",
    "    print(\"Error:\", e)\n",
    "\n",
    "# Rule of thumb if you want to reshape array you need to make sure that MxN = number of elements in the array"
   ]
  },
  {
   "cell_type": "markdown",
   "metadata": {},
   "source": [
    "## Stacking and Splitting Arrays\n",
    "\n",
    "Combine arrays using stacking functions or split arrays into smaller ones."
   ]
  },
  {
   "cell_type": "code",
   "execution_count": 27,
   "metadata": {},
   "outputs": [
    {
     "name": "stdout",
     "output_type": "stream",
     "text": [
      "Vertical Stack:\n",
      " [[1 2 3]\n",
      " [4 5 6]]\n",
      "Horizontal Stack: [1 2 3 4 5 6]\n",
      "Split arrays: [array([0, 1, 2, 3, 4]), array([5, 6, 7, 8, 9])]\n"
     ]
    }
   ],
   "source": [
    "arr1 = np.array([1, 2, 3])\n",
    "arr2 = np.array([4, 5, 6])\n",
    "\n",
    "# Stack the arrays vertically\n",
    "vertical_stack = np.vstack((arr1, arr2))\n",
    "print(\"Vertical Stack:\\n\", vertical_stack)\n",
    "\n",
    "# Stack the arrays horizontally\n",
    "horizontal_stack = np.hstack((arr1, arr2))\n",
    "print(\"Horizontal Stack:\", horizontal_stack)\n",
    "\n",
    "# Splitting an array into two equal parts\n",
    "split_arr = np.split(np.arange(10), 2)\n",
    "print(\"Split arrays:\", split_arr)"
   ]
  },
  {
   "cell_type": "markdown",
   "metadata": {},
   "source": [
    "## Random Numbers\n",
    "\n",
    "Generate random numbers and arrays using NumPy's random module. You can also set a seed for reproducibility."
   ]
  },
  {
   "cell_type": "code",
   "execution_count": null,
   "metadata": {},
   "outputs": [
    {
     "name": "stdout",
     "output_type": "stream",
     "text": [
      "Random array: [0.19400809 0.61943459 0.52008566 0.2260407  0.31405049]\n",
      "Random integer array: [1 9 2 5 3]\n",
      "Random array with fixed seed: [0.37454012 0.95071431 0.73199394 0.59865848 0.15601864]\n"
     ]
    }
   ],
   "source": [
    "# Generate a random array of 5 numbers between 0 and 1\n",
    "random_array = np.random.random(5)\n",
    "print(\"Random array:\", random_array)\n",
    "\n",
    "# Generate an array of 5 random integers between 0 and 10\n",
    "random_int_array = np.random.randint(0, 10, size=5)\n",
    "print(\"Random integer array:\", random_int_array)"
   ]
  },
  {
   "cell_type": "markdown",
   "metadata": {},
   "source": [
    "## Matrix Multiplication\n",
    "\n",
    "Perform matrix multiplication using `np.dot` or the `@` operator. This is essential for many linear algebra applications."
   ]
  },
  {
   "cell_type": "code",
   "execution_count": 29,
   "metadata": {},
   "outputs": [
    {
     "name": "stdout",
     "output_type": "stream",
     "text": [
      "Matrix product using np.dot:\n",
      " [[19 22]\n",
      " [43 50]]\n",
      "Matrix product using @ operator:\n",
      " [[19 22]\n",
      " [43 50]]\n"
     ]
    }
   ],
   "source": [
    "mat1 = np.array([[1, 2], [3, 4]])\n",
    "mat2 = np.array([[5, 6], [7, 8]])\n",
    "\n",
    "# Matrix multiplication using np.dot\n",
    "product = np.dot(mat1, mat2)\n",
    "print(\"Matrix product using np.dot:\\n\", product)\n",
    "\n",
    "# Alternatively, using the @ operator (python +3.5)\n",
    "product_operator = mat1 @ mat2\n",
    "print(\"Matrix product using @ operator:\\n\", product_operator)"
   ]
  },
  {
   "cell_type": "markdown",
   "id": "95be7e70",
   "metadata": {},
   "source": [
    "# Array Aggregations in NumPy\n",
    "\n",
    "NumPy provides a rich set of aggregation functions that allow you to compute summary statistics and reduce the dimensions of an array. These functions help you quickly obtain useful information about your data.\n",
    "\n",
    "---\n",
    "\n",
    "## Common Aggregation Functions\n",
    "\n",
    "- **`np.sum()`**: Computes the sum of all elements in an array or along a specified axis.\n",
    "- **`np.mean()`**: Calculates the arithmetic mean of the array elements.\n",
    "- **`np.max()` / `np.min()`**: Finds the maximum and minimum values in the array.\n",
    "- **`np.std()` / `np.var()`**: Compute the standard deviation and variance, respectively.\n",
    "- **`np.argmax()` / `np.argmin()`**: Return the indices of the maximum and minimum values in the array.\n",
    "\n",
    "---\n",
    "\n",
    "## How They Work\n",
    "\n",
    "- **Global Aggregation:**  \n",
    "  When you don't specify an axis, these functions aggregate over all the elements in the array and return a single scalar value.\n",
    "  \n",
    "- **Axis-Specific Aggregation:**  \n",
    "  By providing an `axis` argument, you can perform the aggregation along a specific dimension:\n",
    "  - `axis=0`: Aggregates along columns (i.e., summarizes each column).\n",
    "  - `axis=1`: Aggregates along rows (i.e., summarizes each row)."
   ]
  },
  {
   "cell_type": "code",
   "execution_count": 30,
   "id": "195e0b7a",
   "metadata": {},
   "outputs": [
    {
     "name": "stdout",
     "output_type": "stream",
     "text": [
      "Total Sum: 45\n",
      "Mean Value: 5.0\n",
      "Max Value: 9\n",
      "Min Value: 1\n",
      "Sum along columns: [12 15 18]\n",
      "Sum along rows: [ 6 15 24]\n",
      "Index of maximum (flattened): 8\n",
      "Indices of maximum along columns: [2 2 2]\n"
     ]
    }
   ],
   "source": [
    "arr = np.array([\n",
    "    [1, 2, 3],\n",
    "    [4, 5, 6],\n",
    "    [7, 8, 9]\n",
    "])\n",
    "\n",
    "# Global Aggregations\n",
    "total_sum = np.sum(arr)\n",
    "mean_value = np.mean(arr)\n",
    "max_value = np.max(arr)\n",
    "min_value = np.min(arr)\n",
    "\n",
    "print(\"Total Sum:\", total_sum)\n",
    "print(\"Mean Value:\", mean_value)\n",
    "print(\"Max Value:\", max_value)\n",
    "print(\"Min Value:\", min_value)\n",
    "\n",
    "# Aggregations along specific axes\n",
    "sum_columns = np.sum(arr, axis=0)  # Sum over rows for each column\n",
    "sum_rows = np.sum(arr, axis=1)     # Sum over columns for each row\n",
    "\n",
    "print(\"Sum along columns:\", sum_columns)\n",
    "print(\"Sum along rows:\", sum_rows)\n",
    "\n",
    "# Finding indices of maximum values\n",
    "argmax_flat = np.argmax(arr)       # Index in the flattened array\n",
    "argmax_columns = np.argmax(arr, axis=0)  # Indices of max values along columns\n",
    "\n",
    "print(\"Index of maximum (flattened):\", argmax_flat)\n",
    "print(\"Indices of maximum along columns:\", argmax_columns)"
   ]
  },
  {
   "cell_type": "markdown",
   "metadata": {},
   "source": [
    "## More Info.\n",
    "\n",
    "Beyond these basics, NumPy offers many advanced features such as advanced indexing, masked arrays, and interoperability with other libraries like pandas and SciPy. For further learning, refer to the [official NumPy documentation](https://numpy.org/doc/stable/reference/index.html#reference)."
   ]
  }
 ],
 "metadata": {
  "kernelspec": {
   "display_name": "main_ML",
   "language": "python",
   "name": "python3"
  },
  "language_info": {
   "codemirror_mode": {
    "name": "ipython",
    "version": 3
   },
   "file_extension": ".py",
   "mimetype": "text/x-python",
   "name": "python",
   "nbconvert_exporter": "python",
   "pygments_lexer": "ipython3",
   "version": "3.12.3"
  }
 },
 "nbformat": 4,
 "nbformat_minor": 5
}
