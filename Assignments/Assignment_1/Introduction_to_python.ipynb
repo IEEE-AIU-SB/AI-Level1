{
 "cells": [
  {
   "cell_type": "markdown",
   "metadata": {},
   "source": [
    "# Assignment 1 Introduction to Python"
   ]
  },
  {
   "cell_type": "markdown",
   "metadata": {},
   "source": [
    "## Problem 1: Greeting and Age Calculator\n",
    "Task\n",
    "Write a Python program that:\n",
    "\n",
    "* Asks the user for their name and age.\n",
    "* Calculates the user’s birth year (use the current year from the datetime module).\n",
    "* Prints a personalized greeting message including the calculated birth year.\n",
    "\n",
    "#### Expected Input/Output Example\n",
    "\n",
    "##### `Enter your name: Alice`\n",
    "##### `Enter your age: 22`\n",
    "##### `Hello, Alice! You were born in 2003.`"
   ]
  },
  {
   "cell_type": "code",
   "execution_count": null,
   "metadata": {
    "vscode": {
     "languageId": "plaintext"
    }
   },
   "outputs": [],
   "source": []
  },
  {
   "cell_type": "markdown",
   "metadata": {},
   "source": [
    "## Problem 2: Basic Calculator\n",
    "Task write a Python program that:\n",
    "\n",
    "* Asks the user to enter two numbers.\n",
    "* Prompts the user to select an arithmetic operation (addition, subtraction, multiplication, or division).\n",
    "* Performs the chosen operation and prints the result.\n",
    "#### Expected Input/Output Example\n",
    "\n",
    "##### `Enter first number: 10`\n",
    "##### `Enter second number: 5`\n",
    "##### `Choose an operation (+, -, *, /): *`\n",
    "##### `The result of 10 * 5 is 50.`"
   ]
  },
  {
   "cell_type": "code",
   "execution_count": null,
   "metadata": {
    "vscode": {
     "languageId": "plaintext"
    }
   },
   "outputs": [],
   "source": []
  },
  {
   "cell_type": "markdown",
   "metadata": {},
   "source": [
    "## Problem 3: List Statistics\n",
    "Task write a Python program that:\n",
    "\n",
    "* Accepts a list of numbers from the user (entered as a comma-separated string).\n",
    "* Converts the input into a list of integers.\n",
    "* Calculates and prints the sum, average, maximum, and minimum of the numbers.\n",
    "#### Expected Input/Output Example\n",
    "\n",
    "##### `Enter numbers separated by commas: 3,5,1,8,2`\n",
    "##### `Sum: 19`\n",
    "##### `Average: 3.8`\n",
    "##### `Maximum: 8`\n",
    "##### `Minimum: 1`"
   ]
  },
  {
   "cell_type": "code",
   "execution_count": null,
   "metadata": {
    "vscode": {
     "languageId": "plaintext"
    }
   },
   "outputs": [],
   "source": []
  },
  {
   "cell_type": "markdown",
   "metadata": {},
   "source": [
    "## Problem 4: FizzBuzz Challenge\n",
    "Task write a Python program that prints numbers from 1 to 50. For each number:\n",
    "\n",
    "* Print \"Fizz\" if it is divisible by 3.\n",
    "* Print \"Buzz\" if it is divisible by 5.\n",
    "* Print \"FizzBuzz\" if it is divisible by both 3 and 5.\n",
    "* Otherwise, print the number itself.\n",
    "#### Expected Output..\n",
    "\n",
    "##### `1`\n",
    "##### `2`\n",
    "##### `Fizz`\n",
    "##### `4`\n",
    "##### `Buzz`\n",
    "##### and so on..."
   ]
  },
  {
   "cell_type": "code",
   "execution_count": null,
   "metadata": {
    "vscode": {
     "languageId": "plaintext"
    }
   },
   "outputs": [],
   "source": []
  },
  {
   "cell_type": "markdown",
   "metadata": {},
   "source": [
    "## Problem 5: Palindrome Checker\n",
    "Task check if a string is palindrome or not:\n",
    "\n",
    "* Takes a string as input.\n",
    "* Returns True if the string is a palindrome (reads the same forwards and backwards), and False otherwise.\n",
    "\n",
    "#### Expected output\n",
    "\n",
    "##### `\"radar\" --> Output: True`\n",
    "##### `\"python\" --> Output: False`"
   ]
  },
  {
   "cell_type": "code",
   "execution_count": null,
   "metadata": {
    "vscode": {
     "languageId": "plaintext"
    }
   },
   "outputs": [],
   "source": []
  }
 ],
 "metadata": {
  "language_info": {
   "name": "python"
  }
 },
 "nbformat": 4,
 "nbformat_minor": 2
}
